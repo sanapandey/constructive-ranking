{
 "cells": [
  {
   "cell_type": "code",
   "execution_count": 20,
   "metadata": {},
   "outputs": [],
   "source": [
    "import os\n",
    "import pandas as pd\n",
    "import json\n",
    "import re"
   ]
  },
  {
   "cell_type": "code",
   "execution_count": null,
   "metadata": {},
   "outputs": [
    {
     "name": "stdout",
     "output_type": "stream",
     "text": [
      "scraping/data/Republican/date_03-05-2025_time_17-49\n",
      "[]\n",
      "1ip0u0d.json\n"
     ]
    }
   ],
   "source": [
    "def walk_through_json_files(directory):\n",
    "    json_files = []\n",
    "    for root, dirs, files in os.walk(directory):\n",
    "        for file in files:\n",
    "            if file.endswith(\".json\"):\n",
    "                subreddit, date = re.match(directory+'/(.+)/(.+)', root).groups()\n",
    "                json_files.append(os.path.join(root, file))\n",
    "    return json_files\n",
    "\n",
    "walk_through_json_files('scraping/data')"
   ]
  },
  {
   "cell_type": "code",
   "execution_count": 40,
   "metadata": {},
   "outputs": [
    {
     "data": {
      "text/plain": [
       "('Republican', 'date_03-05-2025_time_17-49')"
      ]
     },
     "execution_count": 40,
     "metadata": {},
     "output_type": "execute_result"
    }
   ],
   "source": [
    "root = 'scraping/data/Republican/date_03-05-2025_time_17-49'\n",
    "directory = 'scraping/data'\n",
    "subreddit, date = re.match(directory+'/(.+)/(.+)', root).groups()\n",
    "subreddit, date"
   ]
  },
  {
   "cell_type": "code",
   "execution_count": null,
   "metadata": {},
   "outputs": [],
   "source": [
    "json_paths = find_json_files('scraping/data')\n",
    "\n",
    "for path in json_paths:\n",
    "    with open(path) as file:\n",
    "        comment_forest = json.load(file)\n",
    "    \n",
    "\n",
    "def process_json_file(comment_forrest):\n",
    "    \"\"\"\n",
    "    Calculataes feature scores for a JSON file.\n",
    "    \"\"\"\n",
    "\n",
    "    with open(file_path, 'r') as f:\n",
    "        data = json.load(f)\n",
    "    \n",
    "    # Compute values (replace with actual logic)\n",
    "    coalition = data.get(\"coalition\", None)\n",
    "    credibility = data.get(\"credibility\", None)\n",
    "    defection = data.get(\"defection\", None)\n",
    "    onesidedness = data.get(\"onesidedness\", None)\n",
    "\n",
    "    return {\n",
    "        \"file_path\": file_path,\n",
    "        \"coalition\": coalition,\n",
    "        \"credibility\": credibility,\n",
    "        \"defection\": defection,\n",
    "        \"onesidedness\": onesidedness,\n",
    "    }\n"
   ]
  }
 ],
 "metadata": {
  "kernelspec": {
   "display_name": "base",
   "language": "python",
   "name": "python3"
  },
  "language_info": {
   "codemirror_mode": {
    "name": "ipython",
    "version": 3
   },
   "file_extension": ".py",
   "mimetype": "text/x-python",
   "name": "python",
   "nbconvert_exporter": "python",
   "pygments_lexer": "ipython3",
   "version": "3.10.9"
  }
 },
 "nbformat": 4,
 "nbformat_minor": 2
}
