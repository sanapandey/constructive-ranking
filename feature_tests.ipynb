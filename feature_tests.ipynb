{
 "cells": [
  {
   "cell_type": "code",
   "execution_count": 1,
   "metadata": {},
   "outputs": [
    {
     "name": "stderr",
     "output_type": "stream",
     "text": [
      "/Users/sanapandey/miniconda3/envs/constructive-ranking/lib/python3.11/site-packages/tqdm/auto.py:21: TqdmWarning: IProgress not found. Please update jupyter and ipywidgets. See https://ipywidgets.readthedocs.io/en/stable/user_install.html\n",
      "  from .autonotebook import tqdm as notebook_tqdm\n"
     ]
    }
   ],
   "source": [
    "import os\n",
    "import pandas as pd\n",
    "import json\n",
    "import re\n",
    "import nltk\n",
    "nltk.download('punkt_tab')\n",
    "from datetime import datetime\n",
    "from feature_scripts.credibility import get_credibility_score\n",
    "from feature_scripts.defection import get_defection_score\n",
    "\n",
    "from feature_scripts.coalition import get_coalition_score\n",
    "from feature_scripts.onesidedness import get_onesidedness_score"
   ]
  },
  {
   "cell_type": "code",
   "execution_count": 2,
   "metadata": {},
   "outputs": [],
   "source": [
    "def gather_meta_data(directory):\n",
    "    dictionaries = []\n",
    "    for root, dirs, files in os.walk(directory):\n",
    "        for file in files:\n",
    "            if file.endswith(\".json\"):\n",
    "                subreddit, date_string = re.match(directory+'/(.+)/(.+)', root).groups()\n",
    "                date = datetime.strptime(date_string, 'date_%m-%d-%Y_time_%H-%M')\n",
    "                path = os.path.join(root, file)\n",
    "                post_id = re.match('(.+).json', file).group(1)\n",
    "                new_dict = {\n",
    "                    'path': path,\n",
    "                    'subreddit': subreddit,\n",
    "                    'download_date' : date,\n",
    "                    'post_id' : post_id\n",
    "                }\n",
    "                dictionaries.append(new_dict)\n",
    "    return dictionaries\n",
    "\n",
    "def calculate_feature_scores(comment_forest):\n",
    "    \"\"\"\n",
    "    Calculataes feature scores for a JSON file.\n",
    "    \"\"\"\n",
    "    \n",
    "    # Compute values\n",
    "    coalition = get_coalition_score(comment_forest) \n",
    "    onesidedness = get_onesidedness_score(comment_forest)\n",
    "    credibility = get_credibility_score(comment_forest)\n",
    "    defection = get_defection_score(comment_forest)\n",
    "\n",
    "    return {\n",
    "        \"coalition\": coalition,\n",
    "        \"onesidedness\": onesidedness,\n",
    "        \"credibility\": credibility,\n",
    "        \"defection\": defection,\n",
    "    }"
   ]
  },
  {
   "cell_type": "code",
   "execution_count": 3,
   "metadata": {},
   "outputs": [],
   "source": [
    "def mass_calculate_feature_scores(directory_path):\n",
    "    \n",
    "    calculation_start_time = datetime.now()\n",
    "\n",
    "    dicts = gather_meta_data(directory_path)\n",
    "\n",
    "    df_rows = []\n",
    "    for json_dictionary in dicts:\n",
    "        with open(json_dictionary['path']) as file:\n",
    "            comment_forest = json.load(file)\n",
    "            feature_scores_dict = calculate_feature_scores(comment_forest)\n",
    "            new_row_dict = {**json_dictionary, **feature_scores_dict}\n",
    "            df_rows.append(new_row_dict)\n",
    "\n",
    "    timestamp_str = calculation_start_time.strftime('%Y-%m-%d_%H-%M-%S')\n",
    "\n",
    "    safe_dir_name = re.sub(r'[\\\\/]', '_', directory_path) # Sanitize the directory_path to remove slashes or other problematic characters\n",
    "\n",
    "    filename = f'feature_scores_for_jsons_in_{safe_dir_name}_calculated_at_{timestamp_str}.csv'\n",
    "    target_directory_name = 'feature_scores_dataframes'\n",
    "    target_path = os.path.join(target_directory_name, filename)\n",
    "    df = pd.DataFrame(df_rows)\n",
    "    df.to_csv(target_path, index=False)"
   ]
  },
  {
   "cell_type": "code",
   "execution_count": 4,
   "metadata": {},
   "outputs": [
    {
     "ename": "LookupError",
     "evalue": "\n**********************************************************************\n  Resource \u001b[93mpunkt_tab\u001b[0m not found.\n  Please use the NLTK Downloader to obtain the resource:\n\n  \u001b[31m>>> import nltk\n  >>> nltk.download('punkt_tab')\n  \u001b[0m\n  For more information see: https://www.nltk.org/data.html\n\n  Attempted to load \u001b[93mtokenizers/punkt_tab/english/\u001b[0m\n\n  Searched in:\n    - '/Users/sanapandey/nltk_data'\n    - '/Users/sanapandey/miniconda3/envs/constructive-ranking/nltk_data'\n    - '/Users/sanapandey/miniconda3/envs/constructive-ranking/share/nltk_data'\n    - '/Users/sanapandey/miniconda3/envs/constructive-ranking/lib/nltk_data'\n    - '/usr/share/nltk_data'\n    - '/usr/local/share/nltk_data'\n    - '/usr/lib/nltk_data'\n    - '/usr/local/lib/nltk_data'\n**********************************************************************\n",
     "output_type": "error",
     "traceback": [
      "\u001b[31m---------------------------------------------------------------------------\u001b[39m",
      "\u001b[31mLookupError\u001b[39m                               Traceback (most recent call last)",
      "\u001b[36mCell\u001b[39m\u001b[36m \u001b[39m\u001b[32mIn[4]\u001b[39m\u001b[32m, line 2\u001b[39m\n\u001b[32m      1\u001b[39m directory_path = \u001b[33m'\u001b[39m\u001b[33mscraping/top_subreddits_data\u001b[39m\u001b[33m'\u001b[39m\n\u001b[32m----> \u001b[39m\u001b[32m2\u001b[39m \u001b[43mmass_calculate_feature_scores\u001b[49m\u001b[43m(\u001b[49m\u001b[43mdirectory_path\u001b[49m\u001b[43m)\u001b[49m\n",
      "\u001b[36mCell\u001b[39m\u001b[36m \u001b[39m\u001b[32mIn[3]\u001b[39m\u001b[32m, line 11\u001b[39m, in \u001b[36mmass_calculate_feature_scores\u001b[39m\u001b[34m(directory_path)\u001b[39m\n\u001b[32m      9\u001b[39m \u001b[38;5;28;01mwith\u001b[39;00m \u001b[38;5;28mopen\u001b[39m(json_dictionary[\u001b[33m'\u001b[39m\u001b[33mpath\u001b[39m\u001b[33m'\u001b[39m]) \u001b[38;5;28;01mas\u001b[39;00m file:\n\u001b[32m     10\u001b[39m     comment_forest = json.load(file)\n\u001b[32m---> \u001b[39m\u001b[32m11\u001b[39m     feature_scores_dict = \u001b[43mcalculate_feature_scores\u001b[49m\u001b[43m(\u001b[49m\u001b[43mcomment_forest\u001b[49m\u001b[43m)\u001b[49m\n\u001b[32m     12\u001b[39m     new_row_dict = {**json_dictionary, **feature_scores_dict}\n\u001b[32m     13\u001b[39m     df_rows.append(new_row_dict)\n",
      "\u001b[36mCell\u001b[39m\u001b[36m \u001b[39m\u001b[32mIn[2]\u001b[39m\u001b[32m, line 27\u001b[39m, in \u001b[36mcalculate_feature_scores\u001b[39m\u001b[34m(comment_forest)\u001b[39m\n\u001b[32m     25\u001b[39m coalition = get_coalition_score(comment_forest) \n\u001b[32m     26\u001b[39m onesidedness = get_onesidedness_score(comment_forest)\n\u001b[32m---> \u001b[39m\u001b[32m27\u001b[39m credibility = \u001b[43mget_credibility_score\u001b[49m\u001b[43m(\u001b[49m\u001b[43mcomment_forest\u001b[49m\u001b[43m)\u001b[49m\n\u001b[32m     28\u001b[39m defection = get_defection_score(comment_forest)\n\u001b[32m     30\u001b[39m \u001b[38;5;28;01mreturn\u001b[39;00m {\n\u001b[32m     31\u001b[39m     \u001b[33m\"\u001b[39m\u001b[33mcoalition\u001b[39m\u001b[33m\"\u001b[39m: coalition,\n\u001b[32m     32\u001b[39m     \u001b[33m\"\u001b[39m\u001b[33monesidedness\u001b[39m\u001b[33m\"\u001b[39m: onesidedness,\n\u001b[32m     33\u001b[39m     \u001b[33m\"\u001b[39m\u001b[33mcredibility\u001b[39m\u001b[33m\"\u001b[39m: credibility,\n\u001b[32m     34\u001b[39m     \u001b[33m\"\u001b[39m\u001b[33mdefection\u001b[39m\u001b[33m\"\u001b[39m: defection,\n\u001b[32m     35\u001b[39m }\n",
      "\u001b[36mFile \u001b[39m\u001b[32m~/Desktop/constructive-ranking/feature_scripts/credibility.py:266\u001b[39m, in \u001b[36mget_credibility_score\u001b[39m\u001b[34m(comment_forest, valid_words)\u001b[39m\n\u001b[32m    263\u001b[39m     \u001b[38;5;28;01mreturn\u001b[39;00m \u001b[33m'\u001b[39m\u001b[33mToo few comments to compute credibility score.\u001b[39m\u001b[33m'\u001b[39m \u001b[38;5;66;03m# If there are no comments, return message explaining\u001b[39;00m\n\u001b[32m    265\u001b[39m reputation_df = create_author_reputation_df(comment_forest)\n\u001b[32m--> \u001b[39m\u001b[32m266\u001b[39m investment_df = \u001b[43mcreate_author_investment_df\u001b[49m\u001b[43m(\u001b[49m\u001b[43mcomment_forest\u001b[49m\u001b[43m,\u001b[49m\u001b[43m \u001b[49m\u001b[43mvalid_words\u001b[49m\u001b[43m)\u001b[49m\n\u001b[32m    268\u001b[39m mean_reputation = reputation_df[\u001b[33m'\u001b[39m\u001b[33mreputation_score\u001b[39m\u001b[33m'\u001b[39m].mean()\n\u001b[32m    269\u001b[39m mean_investment = investment_df[\u001b[33m'\u001b[39m\u001b[33minvestment_score\u001b[39m\u001b[33m'\u001b[39m].mean()\n",
      "\u001b[36mFile \u001b[39m\u001b[32m~/Desktop/constructive-ranking/feature_scripts/credibility.py:163\u001b[39m, in \u001b[36mcreate_author_investment_df\u001b[39m\u001b[34m(comment_forest, valid_words)\u001b[39m\n\u001b[32m    161\u001b[39m author_length_score = np.mean([get_comment_length(comment_body=comment[\u001b[33m'\u001b[39m\u001b[33mbody\u001b[39m\u001b[33m'\u001b[39m]) \u001b[38;5;28;01mfor\u001b[39;00m comment \u001b[38;5;129;01min\u001b[39;00m author_comments])\n\u001b[32m    162\u001b[39m author_link_score = np.mean([get_comment_has_links(comment_body=comment[\u001b[33m'\u001b[39m\u001b[33mbody\u001b[39m\u001b[33m'\u001b[39m]) \u001b[38;5;28;01mfor\u001b[39;00m comment \u001b[38;5;129;01min\u001b[39;00m author_comments])\n\u001b[32m--> \u001b[39m\u001b[32m163\u001b[39m author_mistakes_score = np.mean(\u001b[43m[\u001b[49m\u001b[43mget_n_spelling_mistakes\u001b[49m\u001b[43m(\u001b[49m\u001b[43mcomment_body\u001b[49m\u001b[43m=\u001b[49m\u001b[43mcomment\u001b[49m\u001b[43m[\u001b[49m\u001b[33;43m'\u001b[39;49m\u001b[33;43mbody\u001b[39;49m\u001b[33;43m'\u001b[39;49m\u001b[43m]\u001b[49m\u001b[43m,\u001b[49m\u001b[43m \u001b[49m\u001b[43mvalid_words\u001b[49m\u001b[43m=\u001b[49m\u001b[43mvalid_words\u001b[49m\u001b[43m)\u001b[49m\u001b[43m \u001b[49m\u001b[38;5;28;43;01mfor\u001b[39;49;00m\u001b[43m \u001b[49m\u001b[43mcomment\u001b[49m\u001b[43m \u001b[49m\u001b[38;5;129;43;01min\u001b[39;49;00m\u001b[43m \u001b[49m\u001b[43mauthor_comments\u001b[49m\u001b[43m]\u001b[49m)\n\u001b[32m    164\u001b[39m author_total_comments = \u001b[38;5;28mlen\u001b[39m(author_comments)\n\u001b[32m    166\u001b[39m new_row = {\u001b[33m'\u001b[39m\u001b[33mauthor\u001b[39m\u001b[33m'\u001b[39m: author,\n\u001b[32m    167\u001b[39m            \u001b[33m'\u001b[39m\u001b[33mtotal comments\u001b[39m\u001b[33m'\u001b[39m : author_total_comments,\n\u001b[32m    168\u001b[39m            \u001b[33m'\u001b[39m\u001b[33maverage_length\u001b[39m\u001b[33m'\u001b[39m: author_length_score,\n\u001b[32m    169\u001b[39m            \u001b[33m'\u001b[39m\u001b[33maverage_links\u001b[39m\u001b[33m'\u001b[39m: author_link_score,\n\u001b[32m    170\u001b[39m            \u001b[33m'\u001b[39m\u001b[33mauthor_mistakes\u001b[39m\u001b[33m'\u001b[39m: author_mistakes_score\n\u001b[32m    171\u001b[39m            }\n",
      "\u001b[36mFile \u001b[39m\u001b[32m~/Desktop/constructive-ranking/feature_scripts/credibility.py:163\u001b[39m, in \u001b[36m<listcomp>\u001b[39m\u001b[34m(.0)\u001b[39m\n\u001b[32m    161\u001b[39m author_length_score = np.mean([get_comment_length(comment_body=comment[\u001b[33m'\u001b[39m\u001b[33mbody\u001b[39m\u001b[33m'\u001b[39m]) \u001b[38;5;28;01mfor\u001b[39;00m comment \u001b[38;5;129;01min\u001b[39;00m author_comments])\n\u001b[32m    162\u001b[39m author_link_score = np.mean([get_comment_has_links(comment_body=comment[\u001b[33m'\u001b[39m\u001b[33mbody\u001b[39m\u001b[33m'\u001b[39m]) \u001b[38;5;28;01mfor\u001b[39;00m comment \u001b[38;5;129;01min\u001b[39;00m author_comments])\n\u001b[32m--> \u001b[39m\u001b[32m163\u001b[39m author_mistakes_score = np.mean([\u001b[43mget_n_spelling_mistakes\u001b[49m\u001b[43m(\u001b[49m\u001b[43mcomment_body\u001b[49m\u001b[43m=\u001b[49m\u001b[43mcomment\u001b[49m\u001b[43m[\u001b[49m\u001b[33;43m'\u001b[39;49m\u001b[33;43mbody\u001b[39;49m\u001b[33;43m'\u001b[39;49m\u001b[43m]\u001b[49m\u001b[43m,\u001b[49m\u001b[43m \u001b[49m\u001b[43mvalid_words\u001b[49m\u001b[43m=\u001b[49m\u001b[43mvalid_words\u001b[49m\u001b[43m)\u001b[49m \u001b[38;5;28;01mfor\u001b[39;00m comment \u001b[38;5;129;01min\u001b[39;00m author_comments])\n\u001b[32m    164\u001b[39m author_total_comments = \u001b[38;5;28mlen\u001b[39m(author_comments)\n\u001b[32m    166\u001b[39m new_row = {\u001b[33m'\u001b[39m\u001b[33mauthor\u001b[39m\u001b[33m'\u001b[39m: author,\n\u001b[32m    167\u001b[39m            \u001b[33m'\u001b[39m\u001b[33mtotal comments\u001b[39m\u001b[33m'\u001b[39m : author_total_comments,\n\u001b[32m    168\u001b[39m            \u001b[33m'\u001b[39m\u001b[33maverage_length\u001b[39m\u001b[33m'\u001b[39m: author_length_score,\n\u001b[32m    169\u001b[39m            \u001b[33m'\u001b[39m\u001b[33maverage_links\u001b[39m\u001b[33m'\u001b[39m: author_link_score,\n\u001b[32m    170\u001b[39m            \u001b[33m'\u001b[39m\u001b[33mauthor_mistakes\u001b[39m\u001b[33m'\u001b[39m: author_mistakes_score\n\u001b[32m    171\u001b[39m            }\n",
      "\u001b[36mFile \u001b[39m\u001b[32m~/Desktop/constructive-ranking/feature_scripts/credibility.py:40\u001b[39m, in \u001b[36mget_n_spelling_mistakes\u001b[39m\u001b[34m(comment_body, valid_words)\u001b[39m\n\u001b[32m     37\u001b[39m \u001b[38;5;28;01mdef\u001b[39;00m\u001b[38;5;250m \u001b[39m\u001b[34mget_n_spelling_mistakes\u001b[39m(comment_body, valid_words):\n\u001b[32m     39\u001b[39m     paragraph_lower = comment_body.lower()\n\u001b[32m---> \u001b[39m\u001b[32m40\u001b[39m     tokens = \u001b[43mtokenize\u001b[49m\u001b[43m.\u001b[49m\u001b[43mword_tokenize\u001b[49m\u001b[43m(\u001b[49m\u001b[43mparagraph_lower\u001b[49m\u001b[43m)\u001b[49m \u001b[38;5;66;03m# like a .split() except smarter (consdires apostrophes, punctuation, etc. )\u001b[39;00m\n\u001b[32m     42\u001b[39m     misspellings = [token \u001b[38;5;28;01mfor\u001b[39;00m token \u001b[38;5;129;01min\u001b[39;00m tokens \u001b[38;5;28;01mif\u001b[39;00m token.isalpha() \u001b[38;5;129;01mand\u001b[39;00m token \u001b[38;5;129;01mnot\u001b[39;00m \u001b[38;5;129;01min\u001b[39;00m valid_words]\n\u001b[32m     44\u001b[39m     \u001b[38;5;28;01mreturn\u001b[39;00m \u001b[38;5;28mlen\u001b[39m(misspellings)\n",
      "\u001b[36mFile \u001b[39m\u001b[32m~/miniconda3/envs/constructive-ranking/lib/python3.11/site-packages/nltk/tokenize/__init__.py:142\u001b[39m, in \u001b[36mword_tokenize\u001b[39m\u001b[34m(text, language, preserve_line)\u001b[39m\n\u001b[32m    127\u001b[39m \u001b[38;5;28;01mdef\u001b[39;00m\u001b[38;5;250m \u001b[39m\u001b[34mword_tokenize\u001b[39m(text, language=\u001b[33m\"\u001b[39m\u001b[33menglish\u001b[39m\u001b[33m\"\u001b[39m, preserve_line=\u001b[38;5;28;01mFalse\u001b[39;00m):\n\u001b[32m    128\u001b[39m \u001b[38;5;250m    \u001b[39m\u001b[33;03m\"\"\"\u001b[39;00m\n\u001b[32m    129\u001b[39m \u001b[33;03m    Return a tokenized copy of *text*,\u001b[39;00m\n\u001b[32m    130\u001b[39m \u001b[33;03m    using NLTK's recommended word tokenizer\u001b[39;00m\n\u001b[32m   (...)\u001b[39m\u001b[32m    140\u001b[39m \u001b[33;03m    :type preserve_line: bool\u001b[39;00m\n\u001b[32m    141\u001b[39m \u001b[33;03m    \"\"\"\u001b[39;00m\n\u001b[32m--> \u001b[39m\u001b[32m142\u001b[39m     sentences = [text] \u001b[38;5;28;01mif\u001b[39;00m preserve_line \u001b[38;5;28;01melse\u001b[39;00m \u001b[43msent_tokenize\u001b[49m\u001b[43m(\u001b[49m\u001b[43mtext\u001b[49m\u001b[43m,\u001b[49m\u001b[43m \u001b[49m\u001b[43mlanguage\u001b[49m\u001b[43m)\u001b[49m\n\u001b[32m    143\u001b[39m     \u001b[38;5;28;01mreturn\u001b[39;00m [\n\u001b[32m    144\u001b[39m         token \u001b[38;5;28;01mfor\u001b[39;00m sent \u001b[38;5;129;01min\u001b[39;00m sentences \u001b[38;5;28;01mfor\u001b[39;00m token \u001b[38;5;129;01min\u001b[39;00m _treebank_word_tokenizer.tokenize(sent)\n\u001b[32m    145\u001b[39m     ]\n",
      "\u001b[36mFile \u001b[39m\u001b[32m~/miniconda3/envs/constructive-ranking/lib/python3.11/site-packages/nltk/tokenize/__init__.py:119\u001b[39m, in \u001b[36msent_tokenize\u001b[39m\u001b[34m(text, language)\u001b[39m\n\u001b[32m    109\u001b[39m \u001b[38;5;28;01mdef\u001b[39;00m\u001b[38;5;250m \u001b[39m\u001b[34msent_tokenize\u001b[39m(text, language=\u001b[33m\"\u001b[39m\u001b[33menglish\u001b[39m\u001b[33m\"\u001b[39m):\n\u001b[32m    110\u001b[39m \u001b[38;5;250m    \u001b[39m\u001b[33;03m\"\"\"\u001b[39;00m\n\u001b[32m    111\u001b[39m \u001b[33;03m    Return a sentence-tokenized copy of *text*,\u001b[39;00m\n\u001b[32m    112\u001b[39m \u001b[33;03m    using NLTK's recommended sentence tokenizer\u001b[39;00m\n\u001b[32m   (...)\u001b[39m\u001b[32m    117\u001b[39m \u001b[33;03m    :param language: the model name in the Punkt corpus\u001b[39;00m\n\u001b[32m    118\u001b[39m \u001b[33;03m    \"\"\"\u001b[39;00m\n\u001b[32m--> \u001b[39m\u001b[32m119\u001b[39m     tokenizer = \u001b[43m_get_punkt_tokenizer\u001b[49m\u001b[43m(\u001b[49m\u001b[43mlanguage\u001b[49m\u001b[43m)\u001b[49m\n\u001b[32m    120\u001b[39m     \u001b[38;5;28;01mreturn\u001b[39;00m tokenizer.tokenize(text)\n",
      "\u001b[36mFile \u001b[39m\u001b[32m~/miniconda3/envs/constructive-ranking/lib/python3.11/site-packages/nltk/tokenize/__init__.py:105\u001b[39m, in \u001b[36m_get_punkt_tokenizer\u001b[39m\u001b[34m(language)\u001b[39m\n\u001b[32m     96\u001b[39m \u001b[38;5;129m@functools\u001b[39m.lru_cache\n\u001b[32m     97\u001b[39m \u001b[38;5;28;01mdef\u001b[39;00m\u001b[38;5;250m \u001b[39m\u001b[34m_get_punkt_tokenizer\u001b[39m(language=\u001b[33m\"\u001b[39m\u001b[33menglish\u001b[39m\u001b[33m\"\u001b[39m):\n\u001b[32m     98\u001b[39m \u001b[38;5;250m    \u001b[39m\u001b[33;03m\"\"\"\u001b[39;00m\n\u001b[32m     99\u001b[39m \u001b[33;03m    A constructor for the PunktTokenizer that utilizes\u001b[39;00m\n\u001b[32m    100\u001b[39m \u001b[33;03m    a lru cache for performance.\u001b[39;00m\n\u001b[32m   (...)\u001b[39m\u001b[32m    103\u001b[39m \u001b[33;03m    :type language: str\u001b[39;00m\n\u001b[32m    104\u001b[39m \u001b[33;03m    \"\"\"\u001b[39;00m\n\u001b[32m--> \u001b[39m\u001b[32m105\u001b[39m     \u001b[38;5;28;01mreturn\u001b[39;00m \u001b[43mPunktTokenizer\u001b[49m\u001b[43m(\u001b[49m\u001b[43mlanguage\u001b[49m\u001b[43m)\u001b[49m\n",
      "\u001b[36mFile \u001b[39m\u001b[32m~/miniconda3/envs/constructive-ranking/lib/python3.11/site-packages/nltk/tokenize/punkt.py:1744\u001b[39m, in \u001b[36mPunktTokenizer.__init__\u001b[39m\u001b[34m(self, lang)\u001b[39m\n\u001b[32m   1742\u001b[39m \u001b[38;5;28;01mdef\u001b[39;00m\u001b[38;5;250m \u001b[39m\u001b[34m__init__\u001b[39m(\u001b[38;5;28mself\u001b[39m, lang=\u001b[33m\"\u001b[39m\u001b[33menglish\u001b[39m\u001b[33m\"\u001b[39m):\n\u001b[32m   1743\u001b[39m     PunktSentenceTokenizer.\u001b[34m__init__\u001b[39m(\u001b[38;5;28mself\u001b[39m)\n\u001b[32m-> \u001b[39m\u001b[32m1744\u001b[39m     \u001b[38;5;28;43mself\u001b[39;49m\u001b[43m.\u001b[49m\u001b[43mload_lang\u001b[49m\u001b[43m(\u001b[49m\u001b[43mlang\u001b[49m\u001b[43m)\u001b[49m\n",
      "\u001b[36mFile \u001b[39m\u001b[32m~/miniconda3/envs/constructive-ranking/lib/python3.11/site-packages/nltk/tokenize/punkt.py:1749\u001b[39m, in \u001b[36mPunktTokenizer.load_lang\u001b[39m\u001b[34m(self, lang)\u001b[39m\n\u001b[32m   1746\u001b[39m \u001b[38;5;28;01mdef\u001b[39;00m\u001b[38;5;250m \u001b[39m\u001b[34mload_lang\u001b[39m(\u001b[38;5;28mself\u001b[39m, lang=\u001b[33m\"\u001b[39m\u001b[33menglish\u001b[39m\u001b[33m\"\u001b[39m):\n\u001b[32m   1747\u001b[39m     \u001b[38;5;28;01mfrom\u001b[39;00m\u001b[38;5;250m \u001b[39m\u001b[34;01mnltk\u001b[39;00m\u001b[34;01m.\u001b[39;00m\u001b[34;01mdata\u001b[39;00m\u001b[38;5;250m \u001b[39m\u001b[38;5;28;01mimport\u001b[39;00m find\n\u001b[32m-> \u001b[39m\u001b[32m1749\u001b[39m     lang_dir = \u001b[43mfind\u001b[49m\u001b[43m(\u001b[49m\u001b[33;43mf\u001b[39;49m\u001b[33;43m\"\u001b[39;49m\u001b[33;43mtokenizers/punkt_tab/\u001b[39;49m\u001b[38;5;132;43;01m{\u001b[39;49;00m\u001b[43mlang\u001b[49m\u001b[38;5;132;43;01m}\u001b[39;49;00m\u001b[33;43m/\u001b[39;49m\u001b[33;43m\"\u001b[39;49m\u001b[43m)\u001b[49m\n\u001b[32m   1750\u001b[39m     \u001b[38;5;28mself\u001b[39m._params = load_punkt_params(lang_dir)\n\u001b[32m   1751\u001b[39m     \u001b[38;5;28mself\u001b[39m._lang = lang\n",
      "\u001b[36mFile \u001b[39m\u001b[32m~/miniconda3/envs/constructive-ranking/lib/python3.11/site-packages/nltk/data.py:579\u001b[39m, in \u001b[36mfind\u001b[39m\u001b[34m(resource_name, paths)\u001b[39m\n\u001b[32m    577\u001b[39m sep = \u001b[33m\"\u001b[39m\u001b[33m*\u001b[39m\u001b[33m\"\u001b[39m * \u001b[32m70\u001b[39m\n\u001b[32m    578\u001b[39m resource_not_found = \u001b[33mf\u001b[39m\u001b[33m\"\u001b[39m\u001b[38;5;130;01m\\n\u001b[39;00m\u001b[38;5;132;01m{\u001b[39;00msep\u001b[38;5;132;01m}\u001b[39;00m\u001b[38;5;130;01m\\n\u001b[39;00m\u001b[38;5;132;01m{\u001b[39;00mmsg\u001b[38;5;132;01m}\u001b[39;00m\u001b[38;5;130;01m\\n\u001b[39;00m\u001b[38;5;132;01m{\u001b[39;00msep\u001b[38;5;132;01m}\u001b[39;00m\u001b[38;5;130;01m\\n\u001b[39;00m\u001b[33m\"\u001b[39m\n\u001b[32m--> \u001b[39m\u001b[32m579\u001b[39m \u001b[38;5;28;01mraise\u001b[39;00m \u001b[38;5;167;01mLookupError\u001b[39;00m(resource_not_found)\n",
      "\u001b[31mLookupError\u001b[39m: \n**********************************************************************\n  Resource \u001b[93mpunkt_tab\u001b[0m not found.\n  Please use the NLTK Downloader to obtain the resource:\n\n  \u001b[31m>>> import nltk\n  >>> nltk.download('punkt_tab')\n  \u001b[0m\n  For more information see: https://www.nltk.org/data.html\n\n  Attempted to load \u001b[93mtokenizers/punkt_tab/english/\u001b[0m\n\n  Searched in:\n    - '/Users/sanapandey/nltk_data'\n    - '/Users/sanapandey/miniconda3/envs/constructive-ranking/nltk_data'\n    - '/Users/sanapandey/miniconda3/envs/constructive-ranking/share/nltk_data'\n    - '/Users/sanapandey/miniconda3/envs/constructive-ranking/lib/nltk_data'\n    - '/usr/share/nltk_data'\n    - '/usr/local/share/nltk_data'\n    - '/usr/lib/nltk_data'\n    - '/usr/local/lib/nltk_data'\n**********************************************************************\n"
     ]
    }
   ],
   "source": [
    "directory_path = 'scraping/top_subreddits_data'\n",
    "mass_calculate_feature_scores(directory_path)"
   ]
  },
  {
   "cell_type": "code",
   "execution_count": null,
   "metadata": {},
   "outputs": [],
   "source": []
  }
 ],
 "metadata": {
  "kernelspec": {
   "display_name": "constructive-ranking",
   "language": "python",
   "name": "python3"
  },
  "language_info": {
   "codemirror_mode": {
    "name": "ipython",
    "version": 3
   },
   "file_extension": ".py",
   "mimetype": "text/x-python",
   "name": "python",
   "nbconvert_exporter": "python",
   "pygments_lexer": "ipython3",
   "version": "3.11.11"
  }
 },
 "nbformat": 4,
 "nbformat_minor": 2
}
