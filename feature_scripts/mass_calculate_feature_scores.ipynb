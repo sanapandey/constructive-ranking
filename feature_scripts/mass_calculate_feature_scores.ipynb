{
 "cells": [
  {
   "cell_type": "code",
   "execution_count": 1,
   "metadata": {},
   "outputs": [
    {
     "name": "stderr",
     "output_type": "stream",
     "text": [
      "[nltk_data] Downloading package punkt_tab to\n",
      "[nltk_data]     /Users/juanp.lievanok./nltk_data...\n",
      "[nltk_data]   Package punkt_tab is already up-to-date!\n",
      "[nltk_data] Downloading package punkt_tab to\n",
      "[nltk_data]     /Users/juanp.lievanok./nltk_data...\n",
      "[nltk_data]   Package punkt_tab is already up-to-date!\n",
      "/Users/juanp.lievanok./miniconda3/envs/constructive-ranking/lib/python3.11/site-packages/tqdm/auto.py:21: TqdmWarning: IProgress not found. Please update jupyter and ipywidgets. See https://ipywidgets.readthedocs.io/en/stable/user_install.html\n",
      "  from .autonotebook import tqdm as notebook_tqdm\n"
     ]
    }
   ],
   "source": [
    "import os\n",
    "import pandas as pd\n",
    "import json\n",
    "import re\n",
    "import nltk\n",
    "nltk.download('punkt_tab')\n",
    "from datetime import datetime\n",
    "from feature_scripts.credibility import get_credibility_subfeatures\n",
    "from feature_scripts.defection import get_defection_score\n",
    "\n",
    "from feature_scripts.coalition import get_coalition_score\n",
    "from feature_scripts.onesidedness import get_onesidedness_score"
   ]
  },
  {
   "cell_type": "code",
   "execution_count": 2,
   "metadata": {},
   "outputs": [],
   "source": [
    "def gather_meta_data(directory):\n",
    "    dictionaries = []\n",
    "    for root, dirs, files in os.walk(directory):\n",
    "        for file in files:\n",
    "            if file.endswith(\".json\"):\n",
    "                subreddit, date_string = re.match(directory+'/(.+)/(.+)', root).groups()\n",
    "                date = datetime.strptime(date_string, 'date_%m-%d-%Y_time_%H-%M')\n",
    "                path = os.path.join(root, file)\n",
    "                post_id = re.match('(.+).json', file).group(1)\n",
    "                new_dict = {\n",
    "                    'path': path,\n",
    "                    'subreddit': subreddit,\n",
    "                    'download_date' : date,\n",
    "                    'post_id' : post_id\n",
    "                }\n",
    "                dictionaries.append(new_dict)\n",
    "    return dictionaries\n",
    "\n",
    "def calculate_feature_scores(comment_forest):\n",
    "    \"\"\"\n",
    "    Calculataes feature scores for a JSON file.\n",
    "    \"\"\"\n",
    "    \n",
    "    # Compute values\n",
    "    coalition = get_coalition_score(comment_forest) \n",
    "    onesidedness = get_onesidedness_score(comment_forest)\n",
    "    # credibility = get_credibility_score(comment_forest)\n",
    "    defection = get_defection_score(comment_forest)\n",
    "\n",
    "    return {\n",
    "        \"coalition\": coalition,\n",
    "        \"onesidedness\": onesidedness,\n",
    "        # \"credibility\": credibility,\n",
    "        \"defection\": defection,\n",
    "    }\n",
    "\n",
    "\n"
   ]
  },
  {
   "cell_type": "code",
   "execution_count": 3,
   "metadata": {},
   "outputs": [],
   "source": [
    "def mass_calculate_feature_scores(directory_path, target_directory_name = 'misc_dataframes_with_test_results'):\n",
    "    \n",
    "    calculation_start_time = datetime.now()\n",
    "\n",
    "    dicts = gather_meta_data(directory_path)\n",
    "\n",
    "    df_rows = []\n",
    "    for json_dictionary in dicts:\n",
    "        with open(json_dictionary['path']) as file:\n",
    "            comment_forest = json.load(file)\n",
    "            feature_scores_dict = calculate_feature_scores(comment_forest)\n",
    "            new_row_dict = {**json_dictionary, **feature_scores_dict}\n",
    "            df_rows.append(new_row_dict)\n",
    "\n",
    "    timestamp_str = calculation_start_time.strftime('%Y-%m-%d_%H-%M-%S')\n",
    "\n",
    "    safe_dir_name = re.sub(r'[\\\\/]', '_', directory_path) # Sanitize the directory_path to remove slashes or other problematic characters\n",
    "\n",
    "    filename = f'feature_scores_for_jsons_in_{safe_dir_name}_calculated_at_{timestamp_str}.csv'\n",
    "    \n",
    "    target_path = os.path.join(target_directory_name, filename)\n",
    "    df = pd.DataFrame(df_rows)\n",
    "    df.to_csv(target_path, index=False)"
   ]
  },
  {
   "cell_type": "code",
   "execution_count": 5,
   "metadata": {},
   "outputs": [],
   "source": [
    "directory_path = 'scraping/test'\n",
    "mass_calculate_feature_scores(directory_path, target_directory_name = 'temp_test_delete_soon')"
   ]
  },
  {
   "cell_type": "code",
   "execution_count": 11,
   "metadata": {},
   "outputs": [
    {
     "ename": "AttributeError",
     "evalue": "'str' object has no attribute 'read'",
     "output_type": "error",
     "traceback": [
      "\u001b[31m---------------------------------------------------------------------------\u001b[39m",
      "\u001b[31mAttributeError\u001b[39m                            Traceback (most recent call last)",
      "\u001b[36mCell\u001b[39m\u001b[36m \u001b[39m\u001b[32mIn[11]\u001b[39m\u001b[32m, line 2\u001b[39m\n\u001b[32m      1\u001b[39m forest_path = \u001b[33m'\u001b[39m\u001b[33m/scraping/top_subreddits_data/Gamingcirclejerk/date_03-18-2025_time_16-24/1jd9hom.json\u001b[39m\u001b[33m'\u001b[39m\n\u001b[32m----> \u001b[39m\u001b[32m2\u001b[39m comment_forest = \u001b[43mjson\u001b[49m\u001b[43m.\u001b[49m\u001b[43mload\u001b[49m\u001b[43m(\u001b[49m\u001b[43mforest_path\u001b[49m\u001b[43m)\u001b[49m\n\u001b[32m      3\u001b[39m feature_scores_dict = calculate_feature_scores(comment_forest)\n\u001b[32m      4\u001b[39m feature_scores_dict\n",
      "\u001b[36mFile \u001b[39m\u001b[32m~/miniconda3/envs/constructive-ranking/lib/python3.11/json/__init__.py:293\u001b[39m, in \u001b[36mload\u001b[39m\u001b[34m(fp, cls, object_hook, parse_float, parse_int, parse_constant, object_pairs_hook, **kw)\u001b[39m\n\u001b[32m    274\u001b[39m \u001b[38;5;28;01mdef\u001b[39;00m\u001b[38;5;250m \u001b[39m\u001b[34mload\u001b[39m(fp, *, \u001b[38;5;28mcls\u001b[39m=\u001b[38;5;28;01mNone\u001b[39;00m, object_hook=\u001b[38;5;28;01mNone\u001b[39;00m, parse_float=\u001b[38;5;28;01mNone\u001b[39;00m,\n\u001b[32m    275\u001b[39m         parse_int=\u001b[38;5;28;01mNone\u001b[39;00m, parse_constant=\u001b[38;5;28;01mNone\u001b[39;00m, object_pairs_hook=\u001b[38;5;28;01mNone\u001b[39;00m, **kw):\n\u001b[32m    276\u001b[39m \u001b[38;5;250m    \u001b[39m\u001b[33;03m\"\"\"Deserialize ``fp`` (a ``.read()``-supporting file-like object containing\u001b[39;00m\n\u001b[32m    277\u001b[39m \u001b[33;03m    a JSON document) to a Python object.\u001b[39;00m\n\u001b[32m    278\u001b[39m \n\u001b[32m   (...)\u001b[39m\u001b[32m    291\u001b[39m \u001b[33;03m    kwarg; otherwise ``JSONDecoder`` is used.\u001b[39;00m\n\u001b[32m    292\u001b[39m \u001b[33;03m    \"\"\"\u001b[39;00m\n\u001b[32m--> \u001b[39m\u001b[32m293\u001b[39m     \u001b[38;5;28;01mreturn\u001b[39;00m loads(\u001b[43mfp\u001b[49m\u001b[43m.\u001b[49m\u001b[43mread\u001b[49m(),\n\u001b[32m    294\u001b[39m         \u001b[38;5;28mcls\u001b[39m=\u001b[38;5;28mcls\u001b[39m, object_hook=object_hook,\n\u001b[32m    295\u001b[39m         parse_float=parse_float, parse_int=parse_int,\n\u001b[32m    296\u001b[39m         parse_constant=parse_constant, object_pairs_hook=object_pairs_hook, **kw)\n",
      "\u001b[31mAttributeError\u001b[39m: 'str' object has no attribute 'read'"
     ]
    }
   ],
   "source": [
    "forest_path = '/scraping/top_subreddits_data/Gamingcirclejerk/date_03-18-2025_time_16-24/1jd9hom.json'\n",
    "comment_forest = json.load(forest_path)\n",
    "feature_scores_dict = calculate_feature_scores(comment_forest)\n",
    "feature_scores_dict"
   ]
  },
  {
   "cell_type": "code",
   "execution_count": null,
   "metadata": {},
   "outputs": [],
   "source": []
  }
 ],
 "metadata": {
  "kernelspec": {
   "display_name": "constructive-ranking",
   "language": "python",
   "name": "python3"
  },
  "language_info": {
   "codemirror_mode": {
    "name": "ipython",
    "version": 3
   },
   "file_extension": ".py",
   "mimetype": "text/x-python",
   "name": "python",
   "nbconvert_exporter": "python",
   "pygments_lexer": "ipython3",
   "version": "3.11.11"
  }
 },
 "nbformat": 4,
 "nbformat_minor": 2
}
