{
 "cells": [
  {
   "cell_type": "code",
   "execution_count": 1,
   "metadata": {},
   "outputs": [
    {
     "name": "stderr",
     "output_type": "stream",
     "text": [
      "[nltk_data] Downloading package punkt_tab to\n",
      "[nltk_data]     /Users/sanapandey/nltk_data...\n",
      "[nltk_data]   Package punkt_tab is already up-to-date!\n",
      "[nltk_data] Downloading package punkt_tab to\n",
      "[nltk_data]     /Users/sanapandey/nltk_data...\n",
      "[nltk_data]   Package punkt_tab is already up-to-date!\n",
      "[nltk_data] Downloading package punkt to\n",
      "[nltk_data]     /Users/sanapandey/nltk_data...\n",
      "[nltk_data]   Package punkt is already up-to-date!\n",
      "/Users/sanapandey/miniconda3/envs/constructive-ranking/lib/python3.11/site-packages/tqdm/auto.py:21: TqdmWarning: IProgress not found. Please update jupyter and ipywidgets. See https://ipywidgets.readthedocs.io/en/stable/user_install.html\n",
      "  from .autonotebook import tqdm as notebook_tqdm\n"
     ]
    }
   ],
   "source": [
    "import os\n",
    "import pandas as pd\n",
    "import json\n",
    "import re\n",
    "import nltk\n",
    "nltk.download('punkt_tab')\n",
    "from datetime import datetime\n",
    "\n",
    "from tqdm import tqdm\n",
    "import gc\n",
    "\n",
    "from credibility import get_credibility_score\n",
    "#from credibility import get_comment_readability\n",
    "\n",
    "from defection import get_defection_score\n",
    "from coalition import get_coalition_score\n",
    "from onesidedness import get_onesidedness_score\n",
    "from resilience import get_resilience_score"
   ]
  },
  {
   "cell_type": "code",
   "execution_count": 2,
   "metadata": {},
   "outputs": [],
   "source": [
    "def gather_meta_data(directory):\n",
    "    dictionaries = []\n",
    "    for root, dirs, files in os.walk(directory):\n",
    "        for file in files:\n",
    "            if file.endswith(\".json\"):\n",
    "                subreddit, date_string = re.match(directory+'/(.+)/(.+)', root).groups()\n",
    "                date = datetime.strptime(date_string, 'date_%m-%d-%Y_time_%H-%M')\n",
    "                path = os.path.join(root, file)\n",
    "                post_id = re.match('(.+).json', file).group(1)\n",
    "                new_dict = {\n",
    "                    'path': path,\n",
    "                    'subreddit': subreddit,\n",
    "                    'download_date' : date,\n",
    "                    'post_id' : post_id\n",
    "                }\n",
    "                dictionaries.append(new_dict)\n",
    "    return dictionaries"
   ]
  },
  {
   "cell_type": "code",
   "execution_count": 3,
   "metadata": {},
   "outputs": [],
   "source": [
    "# legacy now that we're separating the credibility loop from the others. \n",
    "\n",
    "# def calculate_feature_scores(comment_forest):\n",
    "#     \"\"\"\n",
    "#     Calculataes coalition, onsidedness and defection scores,\n",
    "#     and calculates the credibility subfeatures (which have to be normalized and made into a credibility score\n",
    "#     but this normalization requires the credibility subfeatures for all the data to be calculated first.)\n",
    "#     \"\"\"\n",
    "    \n",
    "#     # Compute values\n",
    "#     # TODO coalition = get_coalition_score(comment_forest) \n",
    "#     onesidedness = get_onesidedness_score(comment_forest)\n",
    "#     defection = get_defection_score(comment_forest)\n",
    "\n",
    "#     simple_features_dictionary = {\n",
    "#         # TODO \"coalition\": coalition,\n",
    "#         \"onesidedness\": onesidedness,\n",
    "#         \"defection\": defection,\n",
    "#     }\n",
    "\n",
    "#     credibility_dictionary = get_credibility_subfeatures(comment_forest)\n",
    "\n",
    "\n",
    "#     return credibility_dictionary | simple_features_dictionary\n",
    "\n",
    "\n",
    "# def mass_calculate_feature_scores(directory_path, target_directory_name = '../misc_dataframes_with_test_results'):\n",
    "    \n",
    "#     calculation_start_time = datetime.now()\n",
    "\n",
    "#     dicts = gather_meta_data(directory_path)\n",
    "#     exceptions_count = 0 \n",
    "\n",
    "#     df_rows = []\n",
    "#     for json_dictionary in dicts:\n",
    "#         with open(json_dictionary['path']) as file:\n",
    "#             try:\n",
    "#                 comment_forest = json.load(file)\n",
    "#                 feature_scores_dict = calculate_feature_scores(comment_forest)\n",
    "#                 new_row_dict = {**json_dictionary, **feature_scores_dict}\n",
    "#                 df_rows.append(new_row_dict)\n",
    "#             except Exception as e:\n",
    "#                 exceptions_count += 1\n",
    "#                 print(f'Exceptions count = {exceptions_count}')\n",
    "#                 print(e)\n",
    "                \n",
    "#     timestamp_str = calculation_start_time.strftime('%Y-%m-%d_%H-%M-%S')\n",
    "\n",
    "#     safe_dir_name = re.sub(r'[\\\\/]', '_', directory_path) # Sanitize the directory_path to remove slashes or other problematic characters\n",
    "\n",
    "#     filename = f'credibility_subfeatures_and_simple_feature_scores_for_jsons_in_{safe_dir_name}_calculated_at_{timestamp_str}.csv'\n",
    "    \n",
    "#     target_path = os.path.join(target_directory_name, filename)\n",
    "#     df = pd.DataFrame(df_rows)\n",
    "#     df.to_csv(target_path, index=False)"
   ]
  },
  {
   "cell_type": "markdown",
   "metadata": {},
   "source": [
    "# simple features (coalition, defection, onesidedness, and resilience)"
   ]
  },
  {
   "cell_type": "code",
   "execution_count": 9,
   "metadata": {},
   "outputs": [],
   "source": [
    "def calculate_simple_feature_scores(comment_forest):\n",
    "    ''' \n",
    "    Return dictionary with the \"simple feature\" scores for the given comment forest.\n",
    "    Simple feature scores are coalition, defection, onesidedness, and resilience.\n",
    "    Credibility is not simple because it requires calculating subfeatures for all data before being computed. \n",
    "    '''\n",
    "    \n",
    "    # Compute values\n",
    "    coalition = get_coalition_score(comment_forest) \n",
    "    onesidedness = get_onesidedness_score(comment_forest)\n",
    "    defection = get_defection_score(comment_forest)\n",
    "    resilience = get_resilience_score(comment_forest) \n",
    "\n",
    "    simple_features_dictionary = {\n",
    "        \"coalition\": coalition,\n",
    "        \"onesidedness\": onesidedness,\n",
    "        \"defection\": defection,\n",
    "        \"resilience\" : resilience\n",
    "    }\n",
    "\n",
    "    return simple_features_dictionary\n",
    "\n",
    "def mass_calculate_simple_feature_scores(directory_path, target_directory_name = '../misc_dataframes_with_test_results'):\n",
    "    ''' \n",
    "    Simple feature scores are coalition, defection, onesidedness, and resilience.\n",
    "    Credibility is not simple because it requires calculating subfeatures for all data before being computed. \n",
    "    '''\n",
    "    calculation_start_time = datetime.now()\n",
    "\n",
    "    dicts = gather_meta_data(directory_path)\n",
    "    exceptions_count = 0 \n",
    "\n",
    "    df_rows = []\n",
    "    for json_dictionary in tqdm(dicts):\n",
    "        with open(json_dictionary['path']) as file:\n",
    "            try:\n",
    "                comment_forest = json.load(file)\n",
    "                feature_scores_dict = calculate_simple_feature_scores(comment_forest)\n",
    "                new_row_dict = {**json_dictionary, **feature_scores_dict}\n",
    "                df_rows.append(new_row_dict)\n",
    "            except Exception as e:\n",
    "                exceptions_count += 1\n",
    "                print(f'Exceptions count = {exceptions_count}')\n",
    "                print(e)\n",
    "                \n",
    "    timestamp_str = calculation_start_time.strftime('%Y-%m-%d_%H-%M-%S')\n",
    "\n",
    "    safe_dir_name = re.sub(r'[\\\\/]', '_', directory_path) # Sanitize the directory_path to remove slashes or other problematic characters\n",
    "\n",
    "    filename = f'simple_feature_scores_for_jsons_in_{safe_dir_name}_calculated_at_{timestamp_str}.csv'\n",
    "    \n",
    "    target_path = os.path.join(target_directory_name, filename)\n",
    "    df = pd.DataFrame(df_rows)\n",
    "    df.to_csv(target_path, index=False)"
   ]
  },
  {
   "cell_type": "code",
   "execution_count": 10,
   "metadata": {},
   "outputs": [
    {
     "name": "stderr",
     "output_type": "stream",
     "text": [
      "0it [00:00, ?it/s]\n"
     ]
    }
   ],
   "source": [
    "#directory_path = '../scraping/representative_subreddits_for_varied_percentiles'\n",
    "directory_path = '../scraping/top_subreddits_data_complete'\n",
    "mass_calculate_simple_feature_scores(directory_path)"
   ]
  },
  {
   "cell_type": "code",
   "execution_count": null,
   "metadata": {},
   "outputs": [],
   "source": [
    "# import pandas as pd\n",
    "# path = '../misc_dataframes_with_test_results/credibility_subfeatures_and_simple_feature_scores_for_jsons_in_.._scraping_representative_subreddits_for_varied_percentiles_calculated_at_2025-05-01_21-32-52.csv'\n",
    "# df = pd.read_csv(path)"
   ]
  },
  {
   "cell_type": "markdown",
   "metadata": {},
   "source": [
    "# Simple features loop but trying to use less RAM"
   ]
  },
  {
   "cell_type": "code",
   "execution_count": 13,
   "metadata": {},
   "outputs": [],
   "source": [
    "import csv"
   ]
  },
  {
   "cell_type": "code",
   "execution_count": 18,
   "metadata": {},
   "outputs": [],
   "source": [
    "def calculate_simple_feature_scores(comment_forest):\n",
    "    ''' \n",
    "    Return dictionary with the \"simple feature\" scores for the given comment forest.\n",
    "    Simple feature scores are coalition, defection, onesidedness, and resilience.\n",
    "    Credibility is not simple because it requires calculating subfeatures for all data before being computed. \n",
    "    '''\n",
    "    \n",
    "    # Compute values\n",
    "    coalition = get_coalition_score(comment_forest) \n",
    "    onesidedness = get_onesidedness_score(comment_forest)\n",
    "    defection = get_defection_score(comment_forest)\n",
    "    resilience = get_resilience_score(comment_forest) \n",
    "    credibility = get_credibility_score(comment_forest)\n",
    "\n",
    "    simple_features_dictionary = {\n",
    "        \"coalition\": coalition,\n",
    "        \"onesidedness\": onesidedness,\n",
    "        \"defection\": defection,\n",
    "        \"resilience\" : resilience, \n",
    "        \"credibility\": credibility\n",
    "    }\n",
    "\n",
    "    return simple_features_dictionary\n",
    "\n",
    "def mass_calculate_simple_feature_scores(directory_path, target_directory_name = '../misc_dataframes_with_test_results'):\n",
    "    ''' \n",
    "    Simple feature scores are coalition, defection, onesidedness, and resilience.\n",
    "    Credibility is not simple because it requires calculating subfeatures for all data before being computed. \n",
    "    '''\n",
    "    calculation_start_time = datetime.now()\n",
    "\n",
    "    timestamp_str = calculation_start_time.strftime('%Y-%m-%d_%H-%M-%S')\n",
    "    safe_dir_name = re.sub(r'[\\\\/]', '_', directory_path) # Sanitize the directory_path to remove slashes or other problematic characters\n",
    "    filename = f'simple_feature_scores_for_jsons_in_{safe_dir_name}_calculated_at_{timestamp_str}.csv'\n",
    "    target_path = os.path.join(target_directory_name, filename)\n",
    "\n",
    "    dicts = gather_meta_data(directory_path)\n",
    "    exceptions_count = 0 \n",
    "\n",
    "    with open(target_path, 'w', newline='') as f:\n",
    "        writer = None  # delay creation until we see first row\n",
    "\n",
    "        for json_dictionary in tqdm(dicts):\n",
    "                try:\n",
    "                    with open(json_dictionary['path']) as file:\n",
    "                        comment_forest = json.load(file)\n",
    "                        \n",
    "                    feature_scores_dict = calculate_simple_feature_scores(comment_forest)\n",
    "                    new_row_dict = {**json_dictionary, **feature_scores_dict}\n",
    "                    \n",
    "                    \n",
    "                    if writer is None:\n",
    "                        writer = csv.DictWriter(f, fieldnames=new_row_dict.keys())\n",
    "                        writer.writeheader()\n",
    "\n",
    "                    writer.writerow(new_row_dict)\n",
    "                    \n",
    "                    # garbage collect to free up RAM\n",
    "                    del comment_forest, feature_scores_dict, new_row_dict\n",
    "                    gc.collect()\n",
    "                    \n",
    "                except Exception as e:\n",
    "                    exceptions_count += 1\n",
    "                    print(f'Exceptions count = {exceptions_count}')\n",
    "                    print(e)\n",
    "    "
   ]
  },
  {
   "cell_type": "code",
   "execution_count": 20,
   "metadata": {},
   "outputs": [
    {
     "name": "stderr",
     "output_type": "stream",
     "text": [
      "  0%|          | 0/189 [00:00<?, ?it/s]"
     ]
    },
    {
     "name": "stdout",
     "output_type": "stream",
     "text": [
      "Error processing batch: Batches.create() got an unexpected keyword argument 'input_file'\n"
     ]
    },
    {
     "name": "stderr",
     "output_type": "stream",
     "text": [
      "  1%|          | 1/189 [00:03<12:12,  3.89s/it]"
     ]
    },
    {
     "name": "stdout",
     "output_type": "stream",
     "text": [
      "Error processing batch: Batches.create() got an unexpected keyword argument 'input_file'\n"
     ]
    },
    {
     "name": "stderr",
     "output_type": "stream",
     "text": [
      "  1%|          | 2/189 [00:04<06:29,  2.08s/it]"
     ]
    },
    {
     "name": "stdout",
     "output_type": "stream",
     "text": [
      "Error processing batch: Batches.create() got an unexpected keyword argument 'input_file'\n"
     ]
    },
    {
     "name": "stderr",
     "output_type": "stream",
     "text": [
      "  2%|▏         | 3/189 [00:56<1:16:21, 24.63s/it]"
     ]
    },
    {
     "name": "stdout",
     "output_type": "stream",
     "text": [
      "Error processing batch: Batches.create() got an unexpected keyword argument 'input_file'\n"
     ]
    },
    {
     "name": "stderr",
     "output_type": "stream",
     "text": [
      "  2%|▏         | 4/189 [01:20<1:16:09, 24.70s/it]"
     ]
    },
    {
     "name": "stdout",
     "output_type": "stream",
     "text": [
      "Error processing batch: Batches.create() got an unexpected keyword argument 'input_file'\n"
     ]
    },
    {
     "name": "stderr",
     "output_type": "stream",
     "text": [
      "  3%|▎         | 5/189 [01:25<53:32, 17.46s/it]  "
     ]
    },
    {
     "name": "stdout",
     "output_type": "stream",
     "text": [
      "Error processing batch: Batches.create() got an unexpected keyword argument 'input_file'\n"
     ]
    },
    {
     "name": "stderr",
     "output_type": "stream",
     "text": [
      "  3%|▎         | 6/189 [01:28<37:40, 12.35s/it]"
     ]
    },
    {
     "name": "stdout",
     "output_type": "stream",
     "text": [
      "Error processing batch: Batches.create() got an unexpected keyword argument 'input_file'\n"
     ]
    },
    {
     "name": "stderr",
     "output_type": "stream",
     "text": [
      "  4%|▎         | 7/189 [08:01<6:55:09, 136.86s/it]"
     ]
    },
    {
     "name": "stdout",
     "output_type": "stream",
     "text": [
      "Error processing batch: Batches.create() got an unexpected keyword argument 'input_file'\n"
     ]
    },
    {
     "name": "stderr",
     "output_type": "stream",
     "text": [
      "  4%|▍         | 8/189 [08:01<4:42:05, 93.51s/it] "
     ]
    },
    {
     "name": "stdout",
     "output_type": "stream",
     "text": [
      "Error processing batch: Batches.create() got an unexpected keyword argument 'input_file'\n"
     ]
    },
    {
     "name": "stderr",
     "output_type": "stream",
     "text": [
      "  5%|▌         | 10/189 [08:20<2:24:17, 48.36s/it]"
     ]
    },
    {
     "name": "stdout",
     "output_type": "stream",
     "text": [
      "Error processing batch: Batches.create() got an unexpected keyword argument 'input_file'\n"
     ]
    },
    {
     "name": "stderr",
     "output_type": "stream",
     "text": [
      "  6%|▌         | 11/189 [08:32<1:51:13, 37.49s/it]"
     ]
    },
    {
     "name": "stdout",
     "output_type": "stream",
     "text": [
      "Error processing batch: Batches.create() got an unexpected keyword argument 'input_file'\n"
     ]
    },
    {
     "name": "stderr",
     "output_type": "stream",
     "text": [
      "  6%|▋         | 12/189 [08:37<1:20:46, 27.38s/it]"
     ]
    },
    {
     "name": "stdout",
     "output_type": "stream",
     "text": [
      "Error processing batch: Batches.create() got an unexpected keyword argument 'input_file'\n"
     ]
    },
    {
     "name": "stderr",
     "output_type": "stream",
     "text": [
      "  7%|▋         | 13/189 [08:47<1:05:19, 22.27s/it]"
     ]
    },
    {
     "name": "stdout",
     "output_type": "stream",
     "text": [
      "Error processing batch: Batches.create() got an unexpected keyword argument 'input_file'\n"
     ]
    },
    {
     "name": "stderr",
     "output_type": "stream",
     "text": [
      "  7%|▋         | 14/189 [08:48<45:54, 15.74s/it]  "
     ]
    },
    {
     "name": "stdout",
     "output_type": "stream",
     "text": [
      "Error processing batch: Batches.create() got an unexpected keyword argument 'input_file'\n"
     ]
    },
    {
     "name": "stderr",
     "output_type": "stream",
     "text": [
      "  8%|▊         | 15/189 [08:50<33:57, 11.71s/it]"
     ]
    },
    {
     "name": "stdout",
     "output_type": "stream",
     "text": [
      "Error processing batch: Batches.create() got an unexpected keyword argument 'input_file'\n"
     ]
    },
    {
     "name": "stderr",
     "output_type": "stream",
     "text": [
      " 10%|▉         | 18/189 [08:56<13:57,  4.90s/it]"
     ]
    },
    {
     "name": "stdout",
     "output_type": "stream",
     "text": [
      "Error processing batch: Batches.create() got an unexpected keyword argument 'input_file'\n"
     ]
    },
    {
     "name": "stderr",
     "output_type": "stream",
     "text": [
      " 10%|█         | 19/189 [08:58<11:46,  4.16s/it]"
     ]
    },
    {
     "name": "stdout",
     "output_type": "stream",
     "text": [
      "Error processing batch: Batches.create() got an unexpected keyword argument 'input_file'\n"
     ]
    },
    {
     "name": "stderr",
     "output_type": "stream",
     "text": [
      " 11%|█         | 20/189 [09:04<13:00,  4.62s/it]"
     ]
    },
    {
     "name": "stdout",
     "output_type": "stream",
     "text": [
      "Error processing batch: Batches.create() got an unexpected keyword argument 'input_file'\n"
     ]
    },
    {
     "name": "stderr",
     "output_type": "stream",
     "text": [
      " 11%|█         | 21/189 [10:13<1:07:05, 23.96s/it]"
     ]
    },
    {
     "name": "stdout",
     "output_type": "stream",
     "text": [
      "Error processing batch: Batches.create() got an unexpected keyword argument 'input_file'\n"
     ]
    },
    {
     "name": "stderr",
     "output_type": "stream",
     "text": [
      " 12%|█▏        | 22/189 [33:51<20:31:15, 442.37s/it]"
     ]
    },
    {
     "name": "stdout",
     "output_type": "stream",
     "text": [
      "Error processing batch: Batches.create() got an unexpected keyword argument 'input_file'\n"
     ]
    },
    {
     "name": "stderr",
     "output_type": "stream",
     "text": [
      " 12%|█▏        | 23/189 [35:08<15:20:28, 332.70s/it]"
     ]
    },
    {
     "name": "stdout",
     "output_type": "stream",
     "text": [
      "Error processing batch: Batches.create() got an unexpected keyword argument 'input_file'\n"
     ]
    },
    {
     "name": "stderr",
     "output_type": "stream",
     "text": [
      " 13%|█▎        | 24/189 [35:55<11:18:57, 246.89s/it]"
     ]
    },
    {
     "name": "stdout",
     "output_type": "stream",
     "text": [
      "Error processing batch: Batches.create() got an unexpected keyword argument 'input_file'\n"
     ]
    },
    {
     "name": "stderr",
     "output_type": "stream",
     "text": [
      " 13%|█▎        | 25/189 [51:34<20:42:45, 454.67s/it]"
     ]
    },
    {
     "name": "stdout",
     "output_type": "stream",
     "text": [
      "Error processing batch: Batches.create() got an unexpected keyword argument 'input_file'\n"
     ]
    },
    {
     "name": "stderr",
     "output_type": "stream",
     "text": [
      " 14%|█▍        | 26/189 [53:11<15:43:05, 347.15s/it]"
     ]
    },
    {
     "name": "stdout",
     "output_type": "stream",
     "text": [
      "Error processing batch: Batches.create() got an unexpected keyword argument 'input_file'\n"
     ]
    },
    {
     "name": "stderr",
     "output_type": "stream",
     "text": [
      " 14%|█▍        | 27/189 [6:06:54<265:04:09, 5890.43s/it]"
     ]
    },
    {
     "name": "stdout",
     "output_type": "stream",
     "text": [
      "Error processing batch: Batches.create() got an unexpected keyword argument 'input_file'\n"
     ]
    },
    {
     "name": "stderr",
     "output_type": "stream",
     "text": [
      " 15%|█▍        | 28/189 [6:07:44<185:03:49, 4138.07s/it]"
     ]
    },
    {
     "name": "stdout",
     "output_type": "stream",
     "text": [
      "Error processing batch: Batches.create() got an unexpected keyword argument 'input_file'\n"
     ]
    },
    {
     "name": "stderr",
     "output_type": "stream",
     "text": [
      " 15%|█▌        | 29/189 [6:10:55<131:17:11, 2953.94s/it]"
     ]
    },
    {
     "name": "stdout",
     "output_type": "stream",
     "text": [
      "Error processing batch: Batches.create() got an unexpected keyword argument 'input_file'\n"
     ]
    },
    {
     "name": "stderr",
     "output_type": "stream",
     "text": [
      " 16%|█▌        | 30/189 [6:11:59<92:10:54, 2087.14s/it] "
     ]
    },
    {
     "name": "stdout",
     "output_type": "stream",
     "text": [
      "Error processing batch: Batches.create() got an unexpected keyword argument 'input_file'\n"
     ]
    },
    {
     "name": "stderr",
     "output_type": "stream",
     "text": [
      " 16%|█▋        | 31/189 [6:30:31<78:45:15, 1794.40s/it]"
     ]
    },
    {
     "name": "stdout",
     "output_type": "stream",
     "text": [
      "Error processing batch: Batches.create() got an unexpected keyword argument 'input_file'\n"
     ]
    },
    {
     "name": "stderr",
     "output_type": "stream",
     "text": [
      " 17%|█▋        | 32/189 [6:33:20<56:59:29, 1306.81s/it]"
     ]
    },
    {
     "name": "stdout",
     "output_type": "stream",
     "text": [
      "Error processing batch: Batches.create() got an unexpected keyword argument 'input_file'\n"
     ]
    },
    {
     "name": "stderr",
     "output_type": "stream",
     "text": [
      " 17%|█▋        | 33/189 [6:35:34<41:23:07, 955.05s/it] "
     ]
    },
    {
     "name": "stdout",
     "output_type": "stream",
     "text": [
      "Error processing batch: Batches.create() got an unexpected keyword argument 'input_file'\n"
     ]
    },
    {
     "name": "stderr",
     "output_type": "stream",
     "text": [
      " 18%|█▊        | 34/189 [6:37:44<30:27:27, 707.40s/it]"
     ]
    },
    {
     "name": "stdout",
     "output_type": "stream",
     "text": [
      "Error processing batch: Batches.create() got an unexpected keyword argument 'input_file'\n"
     ]
    },
    {
     "name": "stderr",
     "output_type": "stream",
     "text": [
      " 19%|█▊        | 35/189 [6:39:07<22:15:03, 520.15s/it]"
     ]
    },
    {
     "name": "stdout",
     "output_type": "stream",
     "text": [
      "Error processing batch: Batches.create() got an unexpected keyword argument 'input_file'\n"
     ]
    },
    {
     "name": "stderr",
     "output_type": "stream",
     "text": [
      " 19%|█▉        | 36/189 [6:39:55<16:04:50, 378.37s/it]"
     ]
    },
    {
     "name": "stdout",
     "output_type": "stream",
     "text": [
      "Error processing batch: Batches.create() got an unexpected keyword argument 'input_file'\n"
     ]
    },
    {
     "name": "stderr",
     "output_type": "stream",
     "text": [
      " 20%|█▉        | 37/189 [6:44:59<15:02:17, 356.17s/it]"
     ]
    },
    {
     "name": "stdout",
     "output_type": "stream",
     "text": [
      "Error processing batch: Batches.create() got an unexpected keyword argument 'input_file'\n"
     ]
    },
    {
     "name": "stderr",
     "output_type": "stream",
     "text": [
      " 20%|██        | 38/189 [7:02:21<23:34:22, 562.00s/it]"
     ]
    },
    {
     "name": "stdout",
     "output_type": "stream",
     "text": [
      "Error processing batch: Batches.create() got an unexpected keyword argument 'input_file'\n"
     ]
    },
    {
     "name": "stderr",
     "output_type": "stream",
     "text": [
      " 21%|██        | 39/189 [7:09:00<21:22:22, 512.95s/it]"
     ]
    },
    {
     "name": "stdout",
     "output_type": "stream",
     "text": [
      "Error processing batch: Batches.create() got an unexpected keyword argument 'input_file'\n"
     ]
    },
    {
     "name": "stderr",
     "output_type": "stream",
     "text": [
      " 21%|██        | 40/189 [7:10:39<16:05:33, 388.81s/it]"
     ]
    },
    {
     "name": "stdout",
     "output_type": "stream",
     "text": [
      "Error processing batch: Batches.create() got an unexpected keyword argument 'input_file'\n"
     ]
    },
    {
     "name": "stderr",
     "output_type": "stream",
     "text": [
      " 22%|██▏       | 41/189 [7:11:01<11:27:48, 278.84s/it]"
     ]
    },
    {
     "name": "stdout",
     "output_type": "stream",
     "text": [
      "Error processing batch: Batches.create() got an unexpected keyword argument 'input_file'\n"
     ]
    },
    {
     "name": "stderr",
     "output_type": "stream",
     "text": [
      " 22%|██▏       | 42/189 [7:13:13<9:35:09, 234.76s/it] "
     ]
    },
    {
     "name": "stdout",
     "output_type": "stream",
     "text": [
      "Error processing batch: Batches.create() got an unexpected keyword argument 'input_file'\n"
     ]
    },
    {
     "name": "stderr",
     "output_type": "stream",
     "text": [
      " 23%|██▎       | 43/189 [7:13:50<7:06:38, 175.33s/it]"
     ]
    },
    {
     "name": "stdout",
     "output_type": "stream",
     "text": [
      "Error processing batch: Batches.create() got an unexpected keyword argument 'input_file'\n"
     ]
    },
    {
     "name": "stderr",
     "output_type": "stream",
     "text": [
      " 23%|██▎       | 44/189 [7:13:50<4:57:10, 122.97s/it]"
     ]
    },
    {
     "name": "stdout",
     "output_type": "stream",
     "text": [
      "Error processing batch: Batches.create() got an unexpected keyword argument 'input_file'\n"
     ]
    },
    {
     "name": "stderr",
     "output_type": "stream",
     "text": [
      " 24%|██▍       | 45/189 [7:15:50<4:52:47, 121.99s/it]"
     ]
    },
    {
     "name": "stdout",
     "output_type": "stream",
     "text": [
      "Error processing batch: Batches.create() got an unexpected keyword argument 'input_file'\n"
     ]
    },
    {
     "name": "stderr",
     "output_type": "stream",
     "text": [
      " 24%|██▍       | 46/189 [7:16:06<3:35:04, 90.24s/it] "
     ]
    },
    {
     "name": "stdout",
     "output_type": "stream",
     "text": [
      "Error processing batch: Batches.create() got an unexpected keyword argument 'input_file'\n"
     ]
    },
    {
     "name": "stderr",
     "output_type": "stream",
     "text": [
      " 25%|██▍       | 47/189 [7:20:49<5:50:16, 148.00s/it]"
     ]
    },
    {
     "name": "stdout",
     "output_type": "stream",
     "text": [
      "Error processing batch: Batches.create() got an unexpected keyword argument 'input_file'\n"
     ]
    },
    {
     "name": "stderr",
     "output_type": "stream",
     "text": [
      " 25%|██▌       | 48/189 [7:21:22<4:26:54, 113.58s/it]"
     ]
    },
    {
     "name": "stdout",
     "output_type": "stream",
     "text": [
      "Error processing batch: Batches.create() got an unexpected keyword argument 'input_file'\n"
     ]
    },
    {
     "name": "stderr",
     "output_type": "stream",
     "text": [
      " 26%|██▌       | 49/189 [7:21:32<3:12:14, 82.39s/it] "
     ]
    },
    {
     "name": "stdout",
     "output_type": "stream",
     "text": [
      "Error processing batch: Batches.create() got an unexpected keyword argument 'input_file'\n"
     ]
    },
    {
     "name": "stderr",
     "output_type": "stream",
     "text": [
      " 26%|██▋       | 50/189 [7:24:37<4:21:56, 113.07s/it]"
     ]
    },
    {
     "name": "stdout",
     "output_type": "stream",
     "text": [
      "Error processing batch: Batches.create() got an unexpected keyword argument 'input_file'\n"
     ]
    },
    {
     "name": "stderr",
     "output_type": "stream",
     "text": [
      " 27%|██▋       | 51/189 [7:24:40<3:04:10, 80.08s/it] "
     ]
    },
    {
     "name": "stdout",
     "output_type": "stream",
     "text": [
      "Error processing batch: Batches.create() got an unexpected keyword argument 'input_file'\n"
     ]
    },
    {
     "name": "stderr",
     "output_type": "stream",
     "text": [
      " 28%|██▊       | 52/189 [7:24:55<2:18:08, 60.50s/it]"
     ]
    },
    {
     "name": "stdout",
     "output_type": "stream",
     "text": [
      "Error processing batch: Batches.create() got an unexpected keyword argument 'input_file'\n"
     ]
    },
    {
     "name": "stderr",
     "output_type": "stream",
     "text": [
      " 28%|██▊       | 53/189 [7:25:00<1:40:01, 44.13s/it]"
     ]
    },
    {
     "name": "stdout",
     "output_type": "stream",
     "text": [
      "Error processing batch: Batches.create() got an unexpected keyword argument 'input_file'\n"
     ]
    },
    {
     "name": "stderr",
     "output_type": "stream",
     "text": [
      " 29%|██▊       | 54/189 [7:28:53<3:46:35, 100.71s/it]"
     ]
    },
    {
     "name": "stdout",
     "output_type": "stream",
     "text": [
      "Error processing batch: Batches.create() got an unexpected keyword argument 'input_file'\n"
     ]
    },
    {
     "name": "stderr",
     "output_type": "stream",
     "text": [
      " 29%|██▉       | 55/189 [7:29:43<3:10:47, 85.43s/it] "
     ]
    },
    {
     "name": "stdout",
     "output_type": "stream",
     "text": [
      "Error processing batch: Batches.create() got an unexpected keyword argument 'input_file'\n"
     ]
    },
    {
     "name": "stderr",
     "output_type": "stream",
     "text": [
      " 30%|██▉       | 56/189 [7:30:17<2:35:14, 70.04s/it]"
     ]
    },
    {
     "name": "stdout",
     "output_type": "stream",
     "text": [
      "Error processing batch: Batches.create() got an unexpected keyword argument 'input_file'\n"
     ]
    },
    {
     "name": "stderr",
     "output_type": "stream",
     "text": [
      " 30%|███       | 57/189 [7:31:26<2:33:33, 69.80s/it]"
     ]
    },
    {
     "name": "stdout",
     "output_type": "stream",
     "text": [
      "Error processing batch: Batches.create() got an unexpected keyword argument 'input_file'\n"
     ]
    },
    {
     "name": "stderr",
     "output_type": "stream",
     "text": [
      " 31%|███       | 59/189 [7:32:44<1:49:23, 50.49s/it]"
     ]
    },
    {
     "name": "stdout",
     "output_type": "stream",
     "text": [
      "Error processing batch: Batches.create() got an unexpected keyword argument 'input_file'\n"
     ]
    },
    {
     "name": "stderr",
     "output_type": "stream",
     "text": [
      " 32%|███▏      | 60/189 [7:32:53<1:22:09, 38.21s/it]"
     ]
    },
    {
     "name": "stdout",
     "output_type": "stream",
     "text": [
      "Error processing batch: Batches.create() got an unexpected keyword argument 'input_file'\n"
     ]
    },
    {
     "name": "stderr",
     "output_type": "stream",
     "text": [
      " 32%|███▏      | 61/189 [8:36:09<41:26:27, 1165.53s/it]"
     ]
    },
    {
     "name": "stdout",
     "output_type": "stream",
     "text": [
      "Error processing batch: Batches.create() got an unexpected keyword argument 'input_file'\n"
     ]
    },
    {
     "name": "stderr",
     "output_type": "stream",
     "text": [
      " 33%|███▎      | 62/189 [8:41:01<31:52:16, 903.43s/it] "
     ]
    },
    {
     "name": "stdout",
     "output_type": "stream",
     "text": [
      "Error processing batch: Batches.create() got an unexpected keyword argument 'input_file'\n"
     ]
    },
    {
     "name": "stderr",
     "output_type": "stream",
     "text": [
      " 33%|███▎      | 63/189 [8:45:17<24:49:22, 709.23s/it]"
     ]
    },
    {
     "name": "stdout",
     "output_type": "stream",
     "text": [
      "Error processing batch: Batches.create() got an unexpected keyword argument 'input_file'\n"
     ]
    },
    {
     "name": "stderr",
     "output_type": "stream",
     "text": [
      " 34%|███▍      | 64/189 [8:55:10<23:24:37, 674.22s/it]"
     ]
    },
    {
     "name": "stdout",
     "output_type": "stream",
     "text": [
      "Error processing batch: Batches.create() got an unexpected keyword argument 'input_file'\n"
     ]
    },
    {
     "name": "stderr",
     "output_type": "stream",
     "text": [
      " 34%|███▍      | 65/189 [9:11:10<26:10:34, 759.95s/it]"
     ]
    },
    {
     "name": "stdout",
     "output_type": "stream",
     "text": [
      "Error processing batch: Batches.create() got an unexpected keyword argument 'input_file'\n"
     ]
    },
    {
     "name": "stderr",
     "output_type": "stream",
     "text": [
      " 35%|███▍      | 66/189 [9:11:23<18:18:24, 535.81s/it]"
     ]
    },
    {
     "name": "stdout",
     "output_type": "stream",
     "text": [
      "Error processing batch: Batches.create() got an unexpected keyword argument 'input_file'\n"
     ]
    },
    {
     "name": "stderr",
     "output_type": "stream",
     "text": [
      " 35%|███▌      | 67/189 [9:19:41<17:46:42, 524.61s/it]"
     ]
    },
    {
     "name": "stdout",
     "output_type": "stream",
     "text": [
      "Error processing batch: Batches.create() got an unexpected keyword argument 'input_file'\n"
     ]
    },
    {
     "name": "stderr",
     "output_type": "stream",
     "text": [
      " 36%|███▌      | 68/189 [9:20:15<12:41:02, 377.38s/it]"
     ]
    },
    {
     "name": "stdout",
     "output_type": "stream",
     "text": [
      "Error processing batch: Batches.create() got an unexpected keyword argument 'input_file'\n"
     ]
    },
    {
     "name": "stderr",
     "output_type": "stream",
     "text": [
      " 37%|███▋      | 69/189 [9:22:13<9:59:07, 299.56s/it] "
     ]
    },
    {
     "name": "stdout",
     "output_type": "stream",
     "text": [
      "Error processing batch: Batches.create() got an unexpected keyword argument 'input_file'\n"
     ]
    },
    {
     "name": "stderr",
     "output_type": "stream",
     "text": [
      " 37%|███▋      | 70/189 [9:25:11<8:41:54, 263.15s/it]"
     ]
    },
    {
     "name": "stdout",
     "output_type": "stream",
     "text": [
      "Error processing batch: Batches.create() got an unexpected keyword argument 'input_file'\n"
     ]
    },
    {
     "name": "stderr",
     "output_type": "stream",
     "text": [
      " 38%|███▊      | 71/189 [9:27:37<7:28:23, 227.99s/it]"
     ]
    },
    {
     "name": "stdout",
     "output_type": "stream",
     "text": [
      "Error processing batch: Batches.create() got an unexpected keyword argument 'input_file'\n"
     ]
    },
    {
     "name": "stderr",
     "output_type": "stream",
     "text": [
      " 38%|███▊      | 72/189 [9:28:42<5:49:16, 179.12s/it]"
     ]
    },
    {
     "name": "stdout",
     "output_type": "stream",
     "text": [
      "Error processing batch: Batches.create() got an unexpected keyword argument 'input_file'\n"
     ]
    },
    {
     "name": "stderr",
     "output_type": "stream",
     "text": [
      " 39%|███▊      | 73/189 [9:29:52<4:42:49, 146.29s/it]"
     ]
    },
    {
     "name": "stdout",
     "output_type": "stream",
     "text": [
      "Error processing batch: Batches.create() got an unexpected keyword argument 'input_file'\n"
     ]
    },
    {
     "name": "stderr",
     "output_type": "stream",
     "text": [
      " 39%|███▉      | 74/189 [10:39:49<43:29:20, 1361.40s/it]"
     ]
    },
    {
     "name": "stdout",
     "output_type": "stream",
     "text": [
      "Error processing batch: Batches.create() got an unexpected keyword argument 'input_file'\n"
     ]
    },
    {
     "name": "stderr",
     "output_type": "stream",
     "text": [
      " 40%|███▉      | 75/189 [10:41:06<30:54:43, 976.17s/it] "
     ]
    },
    {
     "name": "stdout",
     "output_type": "stream",
     "text": [
      "Error processing batch: Batches.create() got an unexpected keyword argument 'input_file'\n"
     ]
    },
    {
     "name": "stderr",
     "output_type": "stream",
     "text": [
      " 40%|████      | 76/189 [10:42:55<22:28:38, 716.09s/it]"
     ]
    },
    {
     "name": "stdout",
     "output_type": "stream",
     "text": [
      "Error processing batch: Batches.create() got an unexpected keyword argument 'input_file'\n"
     ]
    },
    {
     "name": "stderr",
     "output_type": "stream",
     "text": [
      " 41%|████      | 77/189 [10:43:41<16:01:15, 514.96s/it]"
     ]
    },
    {
     "name": "stdout",
     "output_type": "stream",
     "text": [
      "Error processing batch: Batches.create() got an unexpected keyword argument 'input_file'\n"
     ]
    },
    {
     "name": "stderr",
     "output_type": "stream",
     "text": [
      " 41%|████▏     | 78/189 [11:23:02<32:57:09, 1068.74s/it]"
     ]
    },
    {
     "name": "stdout",
     "output_type": "stream",
     "text": [
      "Error processing batch: Batches.create() got an unexpected keyword argument 'input_file'\n"
     ]
    },
    {
     "name": "stderr",
     "output_type": "stream",
     "text": [
      " 42%|████▏     | 79/189 [11:23:46<23:15:55, 761.41s/it] "
     ]
    },
    {
     "name": "stdout",
     "output_type": "stream",
     "text": [
      "Error processing batch: Batches.create() got an unexpected keyword argument 'input_file'\n"
     ]
    },
    {
     "name": "stderr",
     "output_type": "stream",
     "text": [
      " 42%|████▏     | 80/189 [11:23:49<16:09:55, 533.91s/it]"
     ]
    },
    {
     "name": "stdout",
     "output_type": "stream",
     "text": [
      "Error processing batch: Batches.create() got an unexpected keyword argument 'input_file'\n"
     ]
    },
    {
     "name": "stderr",
     "output_type": "stream",
     "text": [
      " 43%|████▎     | 81/189 [11:24:15<11:26:39, 381.48s/it]"
     ]
    },
    {
     "name": "stdout",
     "output_type": "stream",
     "text": [
      "Error processing batch: Batches.create() got an unexpected keyword argument 'input_file'\n"
     ]
    },
    {
     "name": "stderr",
     "output_type": "stream",
     "text": [
      " 43%|████▎     | 82/189 [11:24:38<8:08:45, 274.07s/it] "
     ]
    },
    {
     "name": "stdout",
     "output_type": "stream",
     "text": [
      "Error processing batch: Batches.create() got an unexpected keyword argument 'input_file'\n"
     ]
    },
    {
     "name": "stderr",
     "output_type": "stream",
     "text": [
      " 44%|████▍     | 83/189 [11:24:44<5:41:55, 193.54s/it]"
     ]
    },
    {
     "name": "stdout",
     "output_type": "stream",
     "text": [
      "Error processing batch: Batches.create() got an unexpected keyword argument 'input_file'\n"
     ]
    },
    {
     "name": "stderr",
     "output_type": "stream",
     "text": [
      " 44%|████▍     | 84/189 [11:24:52<4:01:09, 137.81s/it]"
     ]
    },
    {
     "name": "stdout",
     "output_type": "stream",
     "text": [
      "Error processing batch: Batches.create() got an unexpected keyword argument 'input_file'\n"
     ]
    },
    {
     "name": "stderr",
     "output_type": "stream",
     "text": [
      " 45%|████▍     | 85/189 [11:24:52<2:47:38, 96.71s/it] "
     ]
    },
    {
     "name": "stdout",
     "output_type": "stream",
     "text": [
      "Error processing batch: Batches.create() got an unexpected keyword argument 'input_file'\n"
     ]
    },
    {
     "name": "stderr",
     "output_type": "stream",
     "text": [
      " 46%|████▌     | 86/189 [11:24:56<1:57:54, 68.68s/it]"
     ]
    },
    {
     "name": "stdout",
     "output_type": "stream",
     "text": [
      "Error processing batch: Batches.create() got an unexpected keyword argument 'input_file'\n"
     ]
    },
    {
     "name": "stderr",
     "output_type": "stream",
     "text": [
      " 46%|████▌     | 87/189 [11:25:06<1:26:52, 51.11s/it]"
     ]
    },
    {
     "name": "stdout",
     "output_type": "stream",
     "text": [
      "Error processing batch: Batches.create() got an unexpected keyword argument 'input_file'\n"
     ]
    },
    {
     "name": "stderr",
     "output_type": "stream",
     "text": [
      " 47%|████▋     | 88/189 [11:25:12<1:03:23, 37.66s/it]"
     ]
    },
    {
     "name": "stdout",
     "output_type": "stream",
     "text": [
      "Error processing batch: Batches.create() got an unexpected keyword argument 'input_file'\n"
     ]
    },
    {
     "name": "stderr",
     "output_type": "stream",
     "text": [
      " 47%|████▋     | 89/189 [11:25:24<49:38, 29.78s/it]  "
     ]
    },
    {
     "name": "stdout",
     "output_type": "stream",
     "text": [
      "Error processing batch: Batches.create() got an unexpected keyword argument 'input_file'\n"
     ]
    },
    {
     "name": "stderr",
     "output_type": "stream",
     "text": [
      " 48%|████▊     | 90/189 [11:25:49<47:14, 28.63s/it]"
     ]
    },
    {
     "name": "stdout",
     "output_type": "stream",
     "text": [
      "Error processing batch: Batches.create() got an unexpected keyword argument 'input_file'\n"
     ]
    },
    {
     "name": "stderr",
     "output_type": "stream",
     "text": [
      " 48%|████▊     | 91/189 [11:25:55<35:39, 21.83s/it]"
     ]
    },
    {
     "name": "stdout",
     "output_type": "stream",
     "text": [
      "Error processing batch: Batches.create() got an unexpected keyword argument 'input_file'\n"
     ]
    },
    {
     "name": "stderr",
     "output_type": "stream",
     "text": [
      " 49%|████▊     | 92/189 [11:27:03<57:37, 35.64s/it]"
     ]
    },
    {
     "name": "stdout",
     "output_type": "stream",
     "text": [
      "Error processing batch: Batches.create() got an unexpected keyword argument 'input_file'\n"
     ]
    },
    {
     "name": "stderr",
     "output_type": "stream",
     "text": [
      " 49%|████▉     | 93/189 [11:27:05<40:55, 25.58s/it]"
     ]
    },
    {
     "name": "stdout",
     "output_type": "stream",
     "text": [
      "Error processing batch: Batches.create() got an unexpected keyword argument 'input_file'\n"
     ]
    },
    {
     "name": "stderr",
     "output_type": "stream",
     "text": [
      " 50%|████▉     | 94/189 [11:28:05<56:27, 35.66s/it]"
     ]
    },
    {
     "name": "stdout",
     "output_type": "stream",
     "text": [
      "Error processing batch: Batches.create() got an unexpected keyword argument 'input_file'\n"
     ]
    },
    {
     "name": "stderr",
     "output_type": "stream",
     "text": [
      " 50%|█████     | 95/189 [11:28:07<40:12, 25.67s/it]"
     ]
    },
    {
     "name": "stdout",
     "output_type": "stream",
     "text": [
      "Error processing batch: Batches.create() got an unexpected keyword argument 'input_file'\n"
     ]
    },
    {
     "name": "stderr",
     "output_type": "stream",
     "text": [
      " 51%|█████     | 96/189 [11:28:20<33:53, 21.87s/it]"
     ]
    },
    {
     "name": "stdout",
     "output_type": "stream",
     "text": [
      "Error processing batch: Batches.create() got an unexpected keyword argument 'input_file'\n"
     ]
    },
    {
     "name": "stderr",
     "output_type": "stream",
     "text": [
      " 51%|█████▏    | 97/189 [11:29:07<45:06, 29.42s/it]"
     ]
    },
    {
     "name": "stdout",
     "output_type": "stream",
     "text": [
      "Error processing batch: Batches.create() got an unexpected keyword argument 'input_file'\n"
     ]
    },
    {
     "name": "stderr",
     "output_type": "stream",
     "text": [
      " 52%|█████▏    | 98/189 [11:29:09<32:03, 21.14s/it]"
     ]
    },
    {
     "name": "stdout",
     "output_type": "stream",
     "text": [
      "Error processing batch: Batches.create() got an unexpected keyword argument 'input_file'\n"
     ]
    },
    {
     "name": "stderr",
     "output_type": "stream",
     "text": [
      " 52%|█████▏    | 99/189 [11:29:40<36:02, 24.02s/it]"
     ]
    },
    {
     "name": "stdout",
     "output_type": "stream",
     "text": [
      "Error processing batch: Batches.create() got an unexpected keyword argument 'input_file'\n"
     ]
    },
    {
     "name": "stderr",
     "output_type": "stream",
     "text": [
      " 53%|█████▎    | 100/189 [11:29:56<32:09, 21.68s/it]"
     ]
    },
    {
     "name": "stdout",
     "output_type": "stream",
     "text": [
      "Error processing batch: Batches.create() got an unexpected keyword argument 'input_file'\n"
     ]
    },
    {
     "name": "stderr",
     "output_type": "stream",
     "text": [
      " 53%|█████▎    | 101/189 [11:33:27<1:55:13, 78.56s/it]"
     ]
    },
    {
     "name": "stdout",
     "output_type": "stream",
     "text": [
      "Error processing batch: Batches.create() got an unexpected keyword argument 'input_file'\n"
     ]
    },
    {
     "name": "stderr",
     "output_type": "stream",
     "text": [
      " 54%|█████▍    | 102/189 [11:35:00<2:00:18, 82.97s/it]"
     ]
    },
    {
     "name": "stdout",
     "output_type": "stream",
     "text": [
      "Error processing batch: Batches.create() got an unexpected keyword argument 'input_file'\n"
     ]
    },
    {
     "name": "stderr",
     "output_type": "stream",
     "text": [
      " 54%|█████▍    | 103/189 [11:51:48<8:36:41, 360.48s/it]"
     ]
    },
    {
     "name": "stdout",
     "output_type": "stream",
     "text": [
      "Error processing batch: Batches.create() got an unexpected keyword argument 'input_file'\n"
     ]
    },
    {
     "name": "stderr",
     "output_type": "stream",
     "text": [
      " 55%|█████▌    | 104/189 [11:53:14<6:34:05, 278.18s/it]"
     ]
    },
    {
     "name": "stdout",
     "output_type": "stream",
     "text": [
      "Error processing batch: Batches.create() got an unexpected keyword argument 'input_file'\n"
     ]
    },
    {
     "name": "stderr",
     "output_type": "stream",
     "text": [
      " 56%|█████▌    | 105/189 [12:15:15<13:47:21, 590.97s/it]"
     ]
    },
    {
     "name": "stdout",
     "output_type": "stream",
     "text": [
      "Error processing batch: Batches.create() got an unexpected keyword argument 'input_file'\n"
     ]
    },
    {
     "name": "stderr",
     "output_type": "stream",
     "text": [
      " 56%|█████▌    | 106/189 [13:11:38<32:56:15, 1428.62s/it]"
     ]
    },
    {
     "name": "stdout",
     "output_type": "stream",
     "text": [
      "Error processing batch: Batches.create() got an unexpected keyword argument 'input_file'\n"
     ]
    },
    {
     "name": "stderr",
     "output_type": "stream",
     "text": [
      " 57%|█████▋    | 107/189 [13:28:42<29:46:12, 1306.98s/it]"
     ]
    },
    {
     "name": "stdout",
     "output_type": "stream",
     "text": [
      "Error processing batch: Batches.create() got an unexpected keyword argument 'input_file'\n"
     ]
    },
    {
     "name": "stderr",
     "output_type": "stream",
     "text": [
      " 57%|█████▋    | 108/189 [13:35:29<23:20:04, 1037.09s/it]"
     ]
    },
    {
     "name": "stdout",
     "output_type": "stream",
     "text": [
      "Error processing batch: Batches.create() got an unexpected keyword argument 'input_file'\n"
     ]
    },
    {
     "name": "stderr",
     "output_type": "stream",
     "text": [
      " 58%|█████▊    | 109/189 [13:51:20<22:28:19, 1011.25s/it]"
     ]
    },
    {
     "name": "stdout",
     "output_type": "stream",
     "text": [
      "Error processing batch: Batches.create() got an unexpected keyword argument 'input_file'\n"
     ]
    },
    {
     "name": "stderr",
     "output_type": "stream",
     "text": [
      " 58%|█████▊    | 110/189 [14:18:25<26:13:51, 1195.33s/it]"
     ]
    },
    {
     "name": "stdout",
     "output_type": "stream",
     "text": [
      "Error processing batch: Batches.create() got an unexpected keyword argument 'input_file'\n"
     ]
    },
    {
     "name": "stderr",
     "output_type": "stream",
     "text": [
      " 59%|█████▊    | 111/189 [14:36:58<25:21:48, 1170.63s/it]"
     ]
    },
    {
     "name": "stdout",
     "output_type": "stream",
     "text": [
      "Error processing batch: Batches.create() got an unexpected keyword argument 'input_file'\n"
     ]
    },
    {
     "name": "stderr",
     "output_type": "stream",
     "text": [
      " 59%|█████▉    | 112/189 [15:42:12<42:38:26, 1993.60s/it]"
     ]
    },
    {
     "name": "stdout",
     "output_type": "stream",
     "text": [
      "Error processing batch: Batches.create() got an unexpected keyword argument 'input_file'\n"
     ]
    },
    {
     "name": "stderr",
     "output_type": "stream",
     "text": [
      " 60%|█████▉    | 113/189 [17:27:56<69:38:23, 3298.72s/it]"
     ]
    },
    {
     "name": "stdout",
     "output_type": "stream",
     "text": [
      "Error processing batch: Batches.create() got an unexpected keyword argument 'input_file'\n"
     ]
    },
    {
     "name": "stderr",
     "output_type": "stream",
     "text": [
      " 60%|██████    | 114/189 [17:29:31<48:42:10, 2337.74s/it]"
     ]
    },
    {
     "name": "stdout",
     "output_type": "stream",
     "text": [
      "Error processing batch: Batches.create() got an unexpected keyword argument 'input_file'\n"
     ]
    },
    {
     "name": "stderr",
     "output_type": "stream",
     "text": [
      " 61%|██████    | 115/189 [20:46:43<106:36:05, 5186.03s/it]"
     ]
    },
    {
     "name": "stdout",
     "output_type": "stream",
     "text": [
      "Error processing batch: Batches.create() got an unexpected keyword argument 'input_file'\n"
     ]
    },
    {
     "name": "stderr",
     "output_type": "stream",
     "text": [
      " 61%|██████▏   | 116/189 [20:50:19<74:55:38, 3695.05s/it] "
     ]
    },
    {
     "name": "stdout",
     "output_type": "stream",
     "text": [
      "Error processing batch: Batches.create() got an unexpected keyword argument 'input_file'\n"
     ]
    },
    {
     "name": "stderr",
     "output_type": "stream",
     "text": [
      " 62%|██████▏   | 117/189 [21:10:42<59:03:53, 2953.25s/it]"
     ]
    },
    {
     "name": "stdout",
     "output_type": "stream",
     "text": [
      "Error processing batch: Batches.create() got an unexpected keyword argument 'input_file'\n"
     ]
    },
    {
     "name": "stderr",
     "output_type": "stream",
     "text": [
      " 62%|██████▏   | 118/189 [21:22:23<44:55:17, 2277.71s/it]"
     ]
    },
    {
     "name": "stdout",
     "output_type": "stream",
     "text": [
      "Error processing batch: Batches.create() got an unexpected keyword argument 'input_file'\n"
     ]
    },
    {
     "name": "stderr",
     "output_type": "stream",
     "text": [
      " 63%|██████▎   | 119/189 [21:42:09<37:55:12, 1950.18s/it]"
     ]
    },
    {
     "name": "stdout",
     "output_type": "stream",
     "text": [
      "Error processing batch: Batches.create() got an unexpected keyword argument 'input_file'\n"
     ]
    },
    {
     "name": "stderr",
     "output_type": "stream",
     "text": [
      " 63%|██████▎   | 120/189 [21:51:51<29:30:41, 1539.74s/it]"
     ]
    },
    {
     "name": "stdout",
     "output_type": "stream",
     "text": [
      "Error processing batch: Batches.create() got an unexpected keyword argument 'input_file'\n"
     ]
    },
    {
     "name": "stderr",
     "output_type": "stream",
     "text": [
      " 64%|██████▍   | 121/189 [25:14:23<89:13:14, 4723.45s/it]"
     ]
    },
    {
     "name": "stdout",
     "output_type": "stream",
     "text": [
      "Error processing batch: Batches.create() got an unexpected keyword argument 'input_file'\n"
     ]
    },
    {
     "name": "stderr",
     "output_type": "stream",
     "text": [
      " 65%|██████▍   | 122/189 [25:28:37<66:18:04, 3562.45s/it]"
     ]
    },
    {
     "name": "stdout",
     "output_type": "stream",
     "text": [
      "Error processing batch: Batches.create() got an unexpected keyword argument 'input_file'\n"
     ]
    },
    {
     "name": "stderr",
     "output_type": "stream",
     "text": [
      " 65%|██████▌   | 123/189 [26:04:37<57:36:10, 3141.98s/it]"
     ]
    },
    {
     "name": "stdout",
     "output_type": "stream",
     "text": [
      "Error processing batch: Batches.create() got an unexpected keyword argument 'input_file'\n"
     ]
    },
    {
     "name": "stderr",
     "output_type": "stream",
     "text": [
      " 66%|██████▌   | 124/189 [26:16:22<43:31:30, 2410.62s/it]"
     ]
    },
    {
     "name": "stdout",
     "output_type": "stream",
     "text": [
      "Error processing batch: Batches.create() got an unexpected keyword argument 'input_file'\n"
     ]
    },
    {
     "name": "stderr",
     "output_type": "stream",
     "text": [
      " 66%|██████▌   | 125/189 [29:51:45<98:55:31, 5564.56s/it]"
     ]
    },
    {
     "name": "stdout",
     "output_type": "stream",
     "text": [
      "Error processing batch: Batches.create() got an unexpected keyword argument 'input_file'\n"
     ]
    },
    {
     "name": "stderr",
     "output_type": "stream",
     "text": [
      " 67%|██████▋   | 126/189 [30:57:27<88:51:42, 5077.82s/it]"
     ]
    },
    {
     "name": "stdout",
     "output_type": "stream",
     "text": [
      "Error processing batch: Batches.create() got an unexpected keyword argument 'input_file'\n"
     ]
    },
    {
     "name": "stderr",
     "output_type": "stream",
     "text": [
      " 67%|██████▋   | 127/189 [31:56:26<79:29:54, 4616.03s/it]"
     ]
    },
    {
     "name": "stdout",
     "output_type": "stream",
     "text": [
      "Error processing batch: Batches.create() got an unexpected keyword argument 'input_file'\n"
     ]
    },
    {
     "name": "stderr",
     "output_type": "stream",
     "text": [
      " 68%|██████▊   | 128/189 [32:00:17<55:55:30, 3300.51s/it]"
     ]
    },
    {
     "name": "stdout",
     "output_type": "stream",
     "text": [
      "Error processing batch: Batches.create() got an unexpected keyword argument 'input_file'\n"
     ]
    },
    {
     "name": "stderr",
     "output_type": "stream",
     "text": [
      " 68%|██████▊   | 129/189 [32:16:21<43:19:38, 2599.64s/it]"
     ]
    },
    {
     "name": "stdout",
     "output_type": "stream",
     "text": [
      "Error processing batch: Batches.create() got an unexpected keyword argument 'input_file'\n"
     ]
    },
    {
     "name": "stderr",
     "output_type": "stream",
     "text": [
      " 69%|██████▉   | 130/189 [32:17:03<30:01:41, 1832.23s/it]"
     ]
    },
    {
     "name": "stdout",
     "output_type": "stream",
     "text": [
      "Error processing batch: Batches.create() got an unexpected keyword argument 'input_file'\n"
     ]
    },
    {
     "name": "stderr",
     "output_type": "stream",
     "text": [
      " 69%|██████▉   | 131/189 [32:18:24<21:03:20, 1306.90s/it]"
     ]
    },
    {
     "name": "stdout",
     "output_type": "stream",
     "text": [
      "Error processing batch: Batches.create() got an unexpected keyword argument 'input_file'\n"
     ]
    },
    {
     "name": "stderr",
     "output_type": "stream",
     "text": [
      " 70%|██████▉   | 132/189 [32:22:04<15:31:52, 980.92s/it] "
     ]
    },
    {
     "name": "stdout",
     "output_type": "stream",
     "text": [
      "Error processing batch: Batches.create() got an unexpected keyword argument 'input_file'\n"
     ]
    },
    {
     "name": "stderr",
     "output_type": "stream",
     "text": [
      " 70%|███████   | 133/189 [35:14:35<58:58:59, 3791.78s/it]"
     ]
    },
    {
     "name": "stdout",
     "output_type": "stream",
     "text": [
      "Error processing batch: Batches.create() got an unexpected keyword argument 'input_file'\n"
     ]
    },
    {
     "name": "stderr",
     "output_type": "stream",
     "text": [
      " 71%|███████   | 134/189 [35:25:31<43:33:41, 2851.30s/it]"
     ]
    },
    {
     "name": "stdout",
     "output_type": "stream",
     "text": [
      "Error processing batch: Batches.create() got an unexpected keyword argument 'input_file'\n"
     ]
    },
    {
     "name": "stderr",
     "output_type": "stream",
     "text": [
      " 71%|███████▏  | 135/189 [35:25:46<30:00:13, 2000.26s/it]"
     ]
    },
    {
     "name": "stdout",
     "output_type": "stream",
     "text": [
      "Error processing batch: Batches.create() got an unexpected keyword argument 'input_file'\n"
     ]
    },
    {
     "name": "stderr",
     "output_type": "stream",
     "text": [
      " 72%|███████▏  | 136/189 [35:25:50<20:37:56, 1401.44s/it]"
     ]
    },
    {
     "name": "stdout",
     "output_type": "stream",
     "text": [
      "Error processing batch: Batches.create() got an unexpected keyword argument 'input_file'\n"
     ]
    },
    {
     "name": "stderr",
     "output_type": "stream",
     "text": [
      " 72%|███████▏  | 137/189 [35:27:16<14:32:27, 1006.69s/it]"
     ]
    },
    {
     "name": "stdout",
     "output_type": "stream",
     "text": [
      "Error processing batch: Batches.create() got an unexpected keyword argument 'input_file'\n"
     ]
    },
    {
     "name": "stderr",
     "output_type": "stream",
     "text": [
      " 73%|███████▎  | 138/189 [36:12:39<21:33:29, 1521.75s/it]"
     ]
    },
    {
     "name": "stdout",
     "output_type": "stream",
     "text": [
      "Error processing batch: Batches.create() got an unexpected keyword argument 'input_file'\n"
     ]
    },
    {
     "name": "stderr",
     "output_type": "stream",
     "text": [
      " 74%|███████▎  | 139/189 [36:20:42<16:48:23, 1210.06s/it]"
     ]
    },
    {
     "name": "stdout",
     "output_type": "stream",
     "text": [
      "Error processing batch: Batches.create() got an unexpected keyword argument 'input_file'\n"
     ]
    },
    {
     "name": "stderr",
     "output_type": "stream",
     "text": [
      " 74%|███████▍  | 140/189 [36:22:58<12:04:56, 887.68s/it] "
     ]
    },
    {
     "name": "stdout",
     "output_type": "stream",
     "text": [
      "Error processing batch: Batches.create() got an unexpected keyword argument 'input_file'\n"
     ]
    },
    {
     "name": "stderr",
     "output_type": "stream",
     "text": [
      " 75%|███████▍  | 141/189 [36:23:30<8:24:49, 631.02s/it] "
     ]
    },
    {
     "name": "stdout",
     "output_type": "stream",
     "text": [
      "Error processing batch: Batches.create() got an unexpected keyword argument 'input_file'\n"
     ]
    },
    {
     "name": "stderr",
     "output_type": "stream",
     "text": [
      " 75%|███████▌  | 142/189 [36:25:17<6:11:16, 473.97s/it]"
     ]
    },
    {
     "name": "stdout",
     "output_type": "stream",
     "text": [
      "Error processing batch: Batches.create() got an unexpected keyword argument 'input_file'\n"
     ]
    },
    {
     "name": "stderr",
     "output_type": "stream",
     "text": [
      " 76%|███████▌  | 143/189 [36:26:27<4:30:20, 352.62s/it]"
     ]
    },
    {
     "name": "stdout",
     "output_type": "stream",
     "text": [
      "Error processing batch: Batches.create() got an unexpected keyword argument 'input_file'\n"
     ]
    },
    {
     "name": "stderr",
     "output_type": "stream",
     "text": [
      " 76%|███████▌  | 144/189 [36:27:49<3:23:35, 271.46s/it]"
     ]
    },
    {
     "name": "stdout",
     "output_type": "stream",
     "text": [
      "Error processing batch: Batches.create() got an unexpected keyword argument 'input_file'\n"
     ]
    },
    {
     "name": "stderr",
     "output_type": "stream",
     "text": [
      " 77%|███████▋  | 145/189 [36:29:09<2:37:04, 214.20s/it]"
     ]
    },
    {
     "name": "stdout",
     "output_type": "stream",
     "text": [
      "Error processing batch: Batches.create() got an unexpected keyword argument 'input_file'\n"
     ]
    },
    {
     "name": "stderr",
     "output_type": "stream",
     "text": [
      " 77%|███████▋  | 146/189 [36:30:27<2:04:03, 173.12s/it]"
     ]
    },
    {
     "name": "stdout",
     "output_type": "stream",
     "text": [
      "Error processing batch: Batches.create() got an unexpected keyword argument 'input_file'\n"
     ]
    },
    {
     "name": "stderr",
     "output_type": "stream",
     "text": [
      " 78%|███████▊  | 147/189 [36:38:12<3:02:33, 260.81s/it]"
     ]
    },
    {
     "name": "stdout",
     "output_type": "stream",
     "text": [
      "Error processing batch: Batches.create() got an unexpected keyword argument 'input_file'\n"
     ]
    },
    {
     "name": "stderr",
     "output_type": "stream",
     "text": [
      " 78%|███████▊  | 148/189 [36:41:50<2:49:32, 248.10s/it]"
     ]
    },
    {
     "name": "stdout",
     "output_type": "stream",
     "text": [
      "Error processing batch: Batches.create() got an unexpected keyword argument 'input_file'\n"
     ]
    },
    {
     "name": "stderr",
     "output_type": "stream",
     "text": [
      " 79%|███████▉  | 149/189 [36:43:04<2:10:31, 195.80s/it]"
     ]
    },
    {
     "name": "stdout",
     "output_type": "stream",
     "text": [
      "Error processing batch: Batches.create() got an unexpected keyword argument 'input_file'\n"
     ]
    },
    {
     "name": "stderr",
     "output_type": "stream",
     "text": [
      " 79%|███████▉  | 150/189 [36:44:14<1:42:44, 158.06s/it]"
     ]
    },
    {
     "name": "stdout",
     "output_type": "stream",
     "text": [
      "Error processing batch: Batches.create() got an unexpected keyword argument 'input_file'\n"
     ]
    },
    {
     "name": "stderr",
     "output_type": "stream",
     "text": [
      " 80%|███████▉  | 151/189 [36:45:59<1:30:03, 142.19s/it]"
     ]
    },
    {
     "name": "stdout",
     "output_type": "stream",
     "text": [
      "Error processing batch: Batches.create() got an unexpected keyword argument 'input_file'\n"
     ]
    },
    {
     "name": "stderr",
     "output_type": "stream",
     "text": [
      " 80%|████████  | 152/189 [36:46:28<1:06:39, 108.09s/it]"
     ]
    },
    {
     "name": "stdout",
     "output_type": "stream",
     "text": [
      "Error processing batch: Batches.create() got an unexpected keyword argument 'input_file'\n"
     ]
    },
    {
     "name": "stderr",
     "output_type": "stream",
     "text": [
      " 81%|████████  | 153/189 [37:01:53<3:31:49, 353.05s/it]"
     ]
    },
    {
     "name": "stdout",
     "output_type": "stream",
     "text": [
      "Error processing batch: Batches.create() got an unexpected keyword argument 'input_file'\n"
     ]
    },
    {
     "name": "stderr",
     "output_type": "stream",
     "text": [
      " 81%|████████▏ | 154/189 [37:01:59<2:25:13, 248.97s/it]"
     ]
    },
    {
     "name": "stdout",
     "output_type": "stream",
     "text": [
      "Error processing batch: Batches.create() got an unexpected keyword argument 'input_file'\n"
     ]
    },
    {
     "name": "stderr",
     "output_type": "stream",
     "text": [
      " 82%|████████▏ | 155/189 [37:03:27<1:53:48, 200.84s/it]"
     ]
    },
    {
     "name": "stdout",
     "output_type": "stream",
     "text": [
      "Error processing batch: Batches.create() got an unexpected keyword argument 'input_file'\n"
     ]
    },
    {
     "name": "stderr",
     "output_type": "stream",
     "text": [
      " 83%|████████▎ | 156/189 [37:54:22<9:41:20, 1056.98s/it]"
     ]
    },
    {
     "name": "stdout",
     "output_type": "stream",
     "text": [
      "Error processing batch: Batches.create() got an unexpected keyword argument 'input_file'\n"
     ]
    },
    {
     "name": "stderr",
     "output_type": "stream",
     "text": [
      " 83%|████████▎ | 157/189 [37:57:00<6:59:49, 787.19s/it] "
     ]
    },
    {
     "name": "stdout",
     "output_type": "stream",
     "text": [
      "Error processing batch: Batches.create() got an unexpected keyword argument 'input_file'\n"
     ]
    },
    {
     "name": "stderr",
     "output_type": "stream",
     "text": [
      " 84%|████████▎ | 158/189 [37:58:50<5:01:48, 584.15s/it]"
     ]
    },
    {
     "name": "stdout",
     "output_type": "stream",
     "text": [
      "Error processing batch: Batches.create() got an unexpected keyword argument 'input_file'\n"
     ]
    },
    {
     "name": "stderr",
     "output_type": "stream",
     "text": [
      " 84%|████████▍ | 159/189 [37:59:46<3:32:48, 425.63s/it]"
     ]
    },
    {
     "name": "stdout",
     "output_type": "stream",
     "text": [
      "Error processing batch: Batches.create() got an unexpected keyword argument 'input_file'\n"
     ]
    },
    {
     "name": "stderr",
     "output_type": "stream",
     "text": [
      " 85%|████████▍ | 160/189 [38:00:33<2:30:54, 312.24s/it]"
     ]
    },
    {
     "name": "stdout",
     "output_type": "stream",
     "text": [
      "Error processing batch: Batches.create() got an unexpected keyword argument 'input_file'\n"
     ]
    },
    {
     "name": "stderr",
     "output_type": "stream",
     "text": [
      " 85%|████████▌ | 161/189 [38:02:54<2:01:44, 260.87s/it]"
     ]
    },
    {
     "name": "stdout",
     "output_type": "stream",
     "text": [
      "Error processing batch: Batches.create() got an unexpected keyword argument 'input_file'\n"
     ]
    },
    {
     "name": "stderr",
     "output_type": "stream",
     "text": [
      " 86%|████████▌ | 162/189 [38:03:42<1:28:38, 196.98s/it]"
     ]
    },
    {
     "name": "stdout",
     "output_type": "stream",
     "text": [
      "Error processing batch: Batches.create() got an unexpected keyword argument 'input_file'\n"
     ]
    },
    {
     "name": "stderr",
     "output_type": "stream",
     "text": [
      " 86%|████████▌ | 163/189 [38:04:12<1:03:40, 146.93s/it]"
     ]
    },
    {
     "name": "stdout",
     "output_type": "stream",
     "text": [
      "Error processing batch: Batches.create() got an unexpected keyword argument 'input_file'\n"
     ]
    },
    {
     "name": "stderr",
     "output_type": "stream",
     "text": [
      " 87%|████████▋ | 164/189 [38:15:01<2:03:54, 297.39s/it]"
     ]
    },
    {
     "name": "stdout",
     "output_type": "stream",
     "text": [
      "Error processing batch: Batches.create() got an unexpected keyword argument 'input_file'\n"
     ]
    },
    {
     "name": "stderr",
     "output_type": "stream",
     "text": [
      " 87%|████████▋ | 165/189 [38:17:28<1:40:53, 252.23s/it]"
     ]
    },
    {
     "name": "stdout",
     "output_type": "stream",
     "text": [
      "Error processing batch: Batches.create() got an unexpected keyword argument 'input_file'\n"
     ]
    },
    {
     "name": "stderr",
     "output_type": "stream",
     "text": [
      " 88%|████████▊ | 166/189 [38:19:55<1:24:38, 220.82s/it]"
     ]
    },
    {
     "name": "stdout",
     "output_type": "stream",
     "text": [
      "Error processing batch: Batches.create() got an unexpected keyword argument 'input_file'\n"
     ]
    },
    {
     "name": "stderr",
     "output_type": "stream",
     "text": [
      " 88%|████████▊ | 167/189 [38:20:10<58:19, 159.07s/it]  "
     ]
    },
    {
     "name": "stdout",
     "output_type": "stream",
     "text": [
      "Error processing batch: Batches.create() got an unexpected keyword argument 'input_file'\n"
     ]
    },
    {
     "name": "stderr",
     "output_type": "stream",
     "text": [
      " 89%|████████▉ | 168/189 [38:20:21<40:09, 114.73s/it]"
     ]
    },
    {
     "name": "stdout",
     "output_type": "stream",
     "text": [
      "Error processing batch: Batches.create() got an unexpected keyword argument 'input_file'\n"
     ]
    },
    {
     "name": "stderr",
     "output_type": "stream",
     "text": [
      " 89%|████████▉ | 169/189 [38:22:53<41:58, 125.91s/it]"
     ]
    },
    {
     "name": "stdout",
     "output_type": "stream",
     "text": [
      "Error processing batch: Batches.create() got an unexpected keyword argument 'input_file'\n"
     ]
    },
    {
     "name": "stderr",
     "output_type": "stream",
     "text": [
      " 90%|████████▉ | 170/189 [38:23:14<29:50, 94.24s/it] "
     ]
    },
    {
     "name": "stdout",
     "output_type": "stream",
     "text": [
      "Error processing batch: Batches.create() got an unexpected keyword argument 'input_file'\n"
     ]
    },
    {
     "name": "stderr",
     "output_type": "stream",
     "text": [
      " 90%|█████████ | 171/189 [38:23:20<20:19, 67.77s/it]"
     ]
    },
    {
     "name": "stdout",
     "output_type": "stream",
     "text": [
      "Error processing batch: Batches.create() got an unexpected keyword argument 'input_file'\n"
     ]
    },
    {
     "name": "stderr",
     "output_type": "stream",
     "text": [
      " 91%|█████████ | 172/189 [38:23:43<15:23, 54.30s/it]"
     ]
    },
    {
     "name": "stdout",
     "output_type": "stream",
     "text": [
      "Error processing batch: Batches.create() got an unexpected keyword argument 'input_file'\n"
     ]
    },
    {
     "name": "stderr",
     "output_type": "stream",
     "text": [
      " 92%|█████████▏| 173/189 [38:24:14<12:36, 47.30s/it]"
     ]
    },
    {
     "name": "stdout",
     "output_type": "stream",
     "text": [
      "Error processing batch: Batches.create() got an unexpected keyword argument 'input_file'\n"
     ]
    },
    {
     "name": "stderr",
     "output_type": "stream",
     "text": [
      " 92%|█████████▏| 174/189 [38:25:51<15:35, 62.40s/it]"
     ]
    },
    {
     "name": "stdout",
     "output_type": "stream",
     "text": [
      "Error processing batch: Batches.create() got an unexpected keyword argument 'input_file'\n"
     ]
    },
    {
     "name": "stderr",
     "output_type": "stream",
     "text": [
      " 93%|█████████▎| 175/189 [38:26:06<11:14, 48.16s/it]"
     ]
    },
    {
     "name": "stdout",
     "output_type": "stream",
     "text": [
      "Error processing batch: Batches.create() got an unexpected keyword argument 'input_file'\n"
     ]
    },
    {
     "name": "stderr",
     "output_type": "stream",
     "text": [
      " 93%|█████████▎| 176/189 [38:26:46<09:54, 45.75s/it]"
     ]
    },
    {
     "name": "stdout",
     "output_type": "stream",
     "text": [
      "Error processing batch: Batches.create() got an unexpected keyword argument 'input_file'\n"
     ]
    },
    {
     "name": "stderr",
     "output_type": "stream",
     "text": [
      " 94%|█████████▎| 177/189 [38:27:41<09:40, 48.36s/it]"
     ]
    },
    {
     "name": "stdout",
     "output_type": "stream",
     "text": [
      "Error processing batch: Batches.create() got an unexpected keyword argument 'input_file'\n"
     ]
    },
    {
     "name": "stderr",
     "output_type": "stream",
     "text": [
      " 94%|█████████▍| 178/189 [38:28:56<10:22, 56.55s/it]"
     ]
    },
    {
     "name": "stdout",
     "output_type": "stream",
     "text": [
      "Error processing batch: Batches.create() got an unexpected keyword argument 'input_file'\n"
     ]
    },
    {
     "name": "stderr",
     "output_type": "stream",
     "text": [
      " 95%|█████████▍| 179/189 [38:29:12<07:22, 44.27s/it]"
     ]
    },
    {
     "name": "stdout",
     "output_type": "stream",
     "text": [
      "Error processing batch: Batches.create() got an unexpected keyword argument 'input_file'\n"
     ]
    },
    {
     "name": "stderr",
     "output_type": "stream",
     "text": [
      " 95%|█████████▌| 180/189 [38:29:50<06:21, 42.40s/it]"
     ]
    },
    {
     "name": "stdout",
     "output_type": "stream",
     "text": [
      "Error processing batch: Batches.create() got an unexpected keyword argument 'input_file'\n"
     ]
    },
    {
     "name": "stderr",
     "output_type": "stream",
     "text": [
      " 96%|█████████▌| 181/189 [38:30:59<06:43, 50.43s/it]"
     ]
    },
    {
     "name": "stdout",
     "output_type": "stream",
     "text": [
      "Error processing batch: Batches.create() got an unexpected keyword argument 'input_file'\n"
     ]
    },
    {
     "name": "stderr",
     "output_type": "stream",
     "text": [
      " 96%|█████████▋| 182/189 [38:32:29<07:16, 62.34s/it]"
     ]
    },
    {
     "name": "stdout",
     "output_type": "stream",
     "text": [
      "Error processing batch: Batches.create() got an unexpected keyword argument 'input_file'\n"
     ]
    },
    {
     "name": "stderr",
     "output_type": "stream",
     "text": [
      " 97%|█████████▋| 183/189 [38:32:41<04:41, 46.97s/it]"
     ]
    },
    {
     "name": "stdout",
     "output_type": "stream",
     "text": [
      "Error processing batch: Batches.create() got an unexpected keyword argument 'input_file'\n"
     ]
    },
    {
     "name": "stderr",
     "output_type": "stream",
     "text": [
      " 97%|█████████▋| 184/189 [38:32:59<03:12, 38.54s/it]"
     ]
    },
    {
     "name": "stdout",
     "output_type": "stream",
     "text": [
      "Error processing batch: Batches.create() got an unexpected keyword argument 'input_file'\n"
     ]
    },
    {
     "name": "stderr",
     "output_type": "stream",
     "text": [
      " 98%|█████████▊| 185/189 [38:33:51<02:49, 42.33s/it]"
     ]
    },
    {
     "name": "stdout",
     "output_type": "stream",
     "text": [
      "Error processing batch: Batches.create() got an unexpected keyword argument 'input_file'\n"
     ]
    },
    {
     "name": "stderr",
     "output_type": "stream",
     "text": [
      " 98%|█████████▊| 186/189 [38:34:07<01:43, 34.56s/it]"
     ]
    },
    {
     "name": "stdout",
     "output_type": "stream",
     "text": [
      "Error processing batch: Batches.create() got an unexpected keyword argument 'input_file'\n"
     ]
    },
    {
     "name": "stderr",
     "output_type": "stream",
     "text": [
      " 99%|█████████▉| 187/189 [38:37:12<02:39, 79.55s/it]"
     ]
    },
    {
     "name": "stdout",
     "output_type": "stream",
     "text": [
      "Error processing batch: Batches.create() got an unexpected keyword argument 'input_file'\n"
     ]
    },
    {
     "name": "stderr",
     "output_type": "stream",
     "text": [
      " 99%|█████████▉| 188/189 [38:37:25<00:59, 59.81s/it]"
     ]
    },
    {
     "name": "stdout",
     "output_type": "stream",
     "text": [
      "Error processing batch: Batches.create() got an unexpected keyword argument 'input_file'\n"
     ]
    },
    {
     "name": "stderr",
     "output_type": "stream",
     "text": [
      "100%|██████████| 189/189 [38:37:41<00:00, 735.78s/it]\n"
     ]
    }
   ],
   "source": [
    "directory_path = '../scraping/representative_subreddits_for_varied_percentiles'\n",
    "#directory_path = '../scraping/top_subreddits_data'\n",
    "mass_calculate_simple_feature_scores(directory_path)"
   ]
  },
  {
   "cell_type": "code",
   "execution_count": null,
   "metadata": {},
   "outputs": [],
   "source": []
  }
 ],
 "metadata": {
  "kernelspec": {
   "display_name": "constructive-ranking",
   "language": "python",
   "name": "python3"
  },
  "language_info": {
   "codemirror_mode": {
    "name": "ipython",
    "version": 3
   },
   "file_extension": ".py",
   "mimetype": "text/x-python",
   "name": "python",
   "nbconvert_exporter": "python",
   "pygments_lexer": "ipython3",
   "version": "3.11.11"
  }
 },
 "nbformat": 4,
 "nbformat_minor": 2
}
