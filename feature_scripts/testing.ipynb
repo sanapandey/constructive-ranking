{
 "cells": [
  {
   "cell_type": "code",
   "execution_count": 1,
   "metadata": {},
   "outputs": [
    {
     "name": "stderr",
     "output_type": "stream",
     "text": [
      "/Users/sanapandey/miniconda3/envs/constructive-ranking/lib/python3.11/site-packages/tqdm/auto.py:21: TqdmWarning: IProgress not found. Please update jupyter and ipywidgets. See https://ipywidgets.readthedocs.io/en/stable/user_install.html\n",
      "  from .autonotebook import tqdm as notebook_tqdm\n"
     ]
    },
    {
     "name": "stdout",
     "output_type": "stream",
     "text": [
      "called get_coalition_score successfully.\n",
      "successfully extracted 86 comments.\n",
      "Comment Score: 0.41919654607772827\n",
      "Comment Score: 0.16998600959777832\n",
      "Comment Score: -0.21957606077194214\n",
      "Comment Score: 0.09837588667869568\n",
      "Comment Score: -0.15802377462387085\n",
      "Comment Score: 0.19054961204528809\n",
      "Comment Score: -0.032495737075805664\n",
      "Comment Score: 0.22400829195976257\n",
      "Comment Score: 0.1763165295124054\n",
      "Comment Score: 0.07534000277519226\n",
      "Comment Score: 0.1495199203491211\n",
      "Comment Score: 0.044248759746551514\n",
      "Comment Score: -0.11265209317207336\n",
      "Comment Score: 0.001330554485321045\n",
      "Comment Score: -0.06330685317516327\n",
      "Comment Score: 0.2518419027328491\n",
      "Comment Score: -0.1340303122997284\n",
      "Comment Score: 0.20743697881698608\n",
      "Comment Score: -0.08547770977020264\n",
      "Comment Score: 0.309989869594574\n",
      "Comment Score: -0.07722470164299011\n",
      "Comment Score: 0.014043271541595459\n",
      "Comment Score: 0.0001506209373474121\n",
      "Comment Score: -0.1740097552537918\n",
      "Comment Score: -0.030773639678955078\n",
      "Comment Score: 0.23049688339233398\n",
      "Comment Score: 0.08269199728965759\n",
      "Comment Score: 0.19054961204528809\n",
      "Comment Score: -0.09742817282676697\n",
      "Comment Score: -0.04185295104980469\n",
      "Comment Score: -0.007025629281997681\n",
      "Comment Score: 0.07879489660263062\n",
      "Comment Score: -0.09043902158737183\n",
      "Comment Score: 0.27182602882385254\n",
      "Comment Score: 0.1334925889968872\n",
      "Comment Score: 0.09690684080123901\n",
      "Comment Score: 0.20268630981445312\n",
      "Comment Score: -0.09420228004455566\n",
      "Comment Score: 0.08288753032684326\n",
      "Comment Score: 0.15708774328231812\n",
      "Comment Score: 0.10605877637863159\n",
      "Comment Score: -0.1191088855266571\n",
      "Comment Score: -0.020461559295654297\n",
      "Comment Score: 0.27172088623046875\n",
      "Comment Score: 0.05438676476478577\n",
      "Comment Score: 0.11969196796417236\n",
      "Comment Score: 0.05774310231208801\n",
      "Comment Score: 0.10671693086624146\n",
      "Comment Score: 0.323361873626709\n",
      "Comment Score: 0.33851706981658936\n",
      "Comment Score: 0.17982196807861328\n",
      "Comment Score: -0.033157020807266235\n",
      "Comment Score: 0.023165732622146606\n",
      "Comment Score: 0.2875603437423706\n",
      "Comment Score: 0.013543903827667236\n",
      "Comment Score: 0.003789067268371582\n",
      "Comment Score: 0.03311002254486084\n",
      "Comment Score: 0.05359673500061035\n",
      "Comment Score: -0.07372689247131348\n",
      "Comment Score: -0.1380288302898407\n",
      "Comment Score: -0.3079489469528198\n",
      "Comment Score: 0.022881627082824707\n",
      "Comment Score: 0.24387085437774658\n",
      "Comment Score: -0.23890966176986694\n",
      "Comment Score: 0.05044710636138916\n",
      "Comment Score: 0.17681753635406494\n",
      "Comment Score: 0.09028342366218567\n",
      "Comment Score: -0.1317698359489441\n",
      "Comment Score: 0.1357806921005249\n",
      "Comment Score: -0.026052474975585938\n",
      "Comment Score: -0.02819022536277771\n",
      "Comment Score: 0.15013372898101807\n",
      "Comment Score: -0.23098835349082947\n",
      "Comment Score: -0.13079947233200073\n",
      "Comment Score: -0.03809088468551636\n",
      "Comment Score: 0.25736305117607117\n",
      "Comment Score: 0.17887139320373535\n",
      "Comment Score: 0.017300546169281006\n",
      "Comment Score: 0.24160128831863403\n",
      "Comment Score: 0.04814785718917847\n",
      "Comment Score: -0.07245436310768127\n",
      "Comment Score: 0.13515180349349976\n",
      "Comment Score: 0.18441766500473022\n",
      "Comment Score: 0.02979716658592224\n",
      "Comment Score: 0.09191757440567017\n",
      "Comment Score: -0.010318577289581299\n",
      "final value: 1.0\n"
     ]
    },
    {
     "data": {
      "text/plain": [
       "1.0"
      ]
     },
     "execution_count": 1,
     "metadata": {},
     "output_type": "execute_result"
    }
   ],
   "source": [
    "from coalition import get_coalition_score\n",
    "import json\n",
    "path_file = '../scraping/top_subreddits_data/news/date_03-18-2025_time_14-09/1je1lsu.json'\n",
    "with open(path_file) as file:\n",
    "    comment_forest = json.load(file)\n",
    "get_coalition_score(comment_forest)"
   ]
  },
  {
   "cell_type": "code",
   "execution_count": null,
   "metadata": {},
   "outputs": [],
   "source": []
  }
 ],
 "metadata": {
  "kernelspec": {
   "display_name": "constructive-ranking",
   "language": "python",
   "name": "python3"
  },
  "language_info": {
   "codemirror_mode": {
    "name": "ipython",
    "version": 3
   },
   "file_extension": ".py",
   "mimetype": "text/x-python",
   "name": "python",
   "nbconvert_exporter": "python",
   "pygments_lexer": "ipython3",
   "version": "3.11.11"
  }
 },
 "nbformat": 4,
 "nbformat_minor": 2
}
