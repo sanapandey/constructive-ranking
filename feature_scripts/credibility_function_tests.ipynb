{
 "cells": [
  {
   "cell_type": "code",
   "execution_count": 1,
   "metadata": {},
   "outputs": [
    {
     "name": "stderr",
     "output_type": "stream",
     "text": [
      "[nltk_data] Downloading package punkt_tab to\n",
      "[nltk_data]     /Users/juanp.lievanok./nltk_data...\n",
      "[nltk_data]   Package punkt_tab is already up-to-date!\n"
     ]
    }
   ],
   "source": [
    "from credibility import get_credibility_subfeatures\n",
    "import json\n",
    "import os"
   ]
  },
  {
   "cell_type": "code",
   "execution_count": 2,
   "metadata": {},
   "outputs": [],
   "source": [
    "path_file = '../scraping/selected_subreddits_500_posts_each_data/ADHD/date_03-05-2025_time_18-46/1izmb99.json'\n",
    "with open(path_file) as file:\n",
    "    comment_forest = json.load(file)"
   ]
  },
  {
   "cell_type": "code",
   "execution_count": 3,
   "metadata": {},
   "outputs": [
    {
     "data": {
      "text/plain": [
       "{'comment_has_author_references_proportion': 0.023255813953488372,\n",
       " 'vote_score_mean': 5.093023255813954,\n",
       " 'comments_per_author': 2.263157894736842,\n",
       " 'comment_length_mean': 34.883720930232556,\n",
       " 'comment_has_links_proportion': 0.09302325581395349,\n",
       " 'misspelled_words_proportion': 0.03933333333333333,\n",
       " 'readability_mean': 66.8777777777778}"
      ]
     },
     "execution_count": 3,
     "metadata": {},
     "output_type": "execute_result"
    }
   ],
   "source": [
    "get_credibility_subfeatures(comment_forest)"
   ]
  },
  {
   "cell_type": "code",
   "execution_count": null,
   "metadata": {},
   "outputs": [],
   "source": []
  }
 ],
 "metadata": {
  "kernelspec": {
   "display_name": "constructive-ranking",
   "language": "python",
   "name": "python3"
  },
  "language_info": {
   "codemirror_mode": {
    "name": "ipython",
    "version": 3
   },
   "file_extension": ".py",
   "mimetype": "text/x-python",
   "name": "python",
   "nbconvert_exporter": "python",
   "pygments_lexer": "ipython3",
   "version": "3.11.11"
  }
 },
 "nbformat": 4,
 "nbformat_minor": 2
}
