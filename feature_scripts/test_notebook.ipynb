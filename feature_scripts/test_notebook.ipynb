{
 "cells": [
  {
   "cell_type": "code",
   "execution_count": 1,
   "metadata": {},
   "outputs": [],
   "source": [
    "import defection\n",
    "import os\n",
    "import json"
   ]
  },
  {
   "cell_type": "code",
   "execution_count": 2,
   "metadata": {},
   "outputs": [],
   "source": [
    "path_data = '../scraping/data/politics/date 12-11-2024 time 10-38'\n",
    "path_file = os.path.join(path_data,'1haej5g.json')\n",
    "with open(path_file) as file:\n",
    "    comment_forest = json.load(file)\n",
    "\n",
    "# test_json with 2 branches Neutral Neutral Pos Neg, Pos Pos Pos Neg\n",
    "\n",
    "test_json = {\n",
    "  \"selftext\": \"I love this! It is amazing.\",\n",
    "  \"comments\": [\n",
    "    {\n",
    "      \"body\": \"The cat sat on the mat.\",\n",
    "      \"replies\": [\n",
    "        {\n",
    "          \"body\": \"I love this!\",\n",
    "          \"replies\": [\n",
    "            {\n",
    "              \"body\": \"Absolutely wonderful!\",\n",
    "              \"replies\": [\n",
    "                {\n",
    "                  \"body\": \"I hate this!\",\n",
    "                  \"replies\": []\n",
    "                }\n",
    "              ]\n",
    "            }\n",
    "          ]\n",
    "        }\n",
    "      ]\n",
    "    },\n",
    "    {\n",
    "      \"body\": \"The cat sat on the mat.\",\n",
    "      \"replies\": [\n",
    "        {\n",
    "          \"body\": \"The cat sat on the mat.\",\n",
    "          \"replies\": [\n",
    "            {\n",
    "              \"body\": \"I love this!\",\n",
    "              \"replies\": [\n",
    "                {\n",
    "                  \"body\": \"I hate this!\",\n",
    "                  \"replies\": []\n",
    "                }\n",
    "              ]\n",
    "            }\n",
    "          ]\n",
    "        }\n",
    "      ]\n",
    "    }\n",
    "  ]\n",
    "}\n"
   ]
  },
  {
   "cell_type": "code",
   "execution_count": 3,
   "metadata": {},
   "outputs": [
    {
     "data": {
      "text/plain": [
       "1.9642857142857142"
      ]
     },
     "execution_count": 3,
     "metadata": {},
     "output_type": "execute_result"
    }
   ],
   "source": [
    "defection.defection_list(test_json)\n",
    "defection.get_defection_score(comment_forest)"
   ]
  },
  {
   "cell_type": "code",
   "execution_count": null,
   "metadata": {},
   "outputs": [],
   "source": []
  }
 ],
 "metadata": {
  "kernelspec": {
   "display_name": "base",
   "language": "python",
   "name": "python3"
  },
  "language_info": {
   "codemirror_mode": {
    "name": "ipython",
    "version": 3
   },
   "file_extension": ".py",
   "mimetype": "text/x-python",
   "name": "python",
   "nbconvert_exporter": "python",
   "pygments_lexer": "ipython3",
   "version": "3.10.9"
  }
 },
 "nbformat": 4,
 "nbformat_minor": 2
}
