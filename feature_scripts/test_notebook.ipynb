{
 "cells": [
  {
   "cell_type": "code",
   "execution_count": 7,
   "metadata": {},
   "outputs": [],
   "source": [
    "import defection\n",
    "import os\n",
    "import json"
   ]
  },
  {
   "cell_type": "code",
   "execution_count": 8,
   "metadata": {},
   "outputs": [],
   "source": [
    "path_file = '../scraping/selected_subreddits_500_posts_each_data/ADHD/date_03-05-2025_time_18-46/1izmb99.json'\n",
    "with open(path_file) as file:\n",
    "    comment_forest = json.load(file)\n",
    "\n",
    "# test_json with 2 branches from same positive root node.\n",
    "# Branches: 1. pos (the root), ntr, ntr, pos, neg\n",
    "#           2. pos (the root), pos, pos, pos, neg\n",
    "# Expected normalized defection score 0.8 \n",
    "\n",
    "test_json = {\n",
    "  \"selftext\": \"I love this! It is amazing.\",\n",
    "  \"comments\": [\n",
    "    {\n",
    "      \"body\": \"The cat sat on the mat.\",\n",
    "      \"replies\": [\n",
    "        {\n",
    "          \"body\": \"I love this!\",\n",
    "          \"replies\": [\n",
    "            {\n",
    "              \"body\": \"Absolutely wonderful!\",\n",
    "              \"replies\": [\n",
    "                {\n",
    "                  \"body\": \"I hate this!\",\n",
    "                  \"replies\": []\n",
    "                }\n",
    "              ]\n",
    "            }\n",
    "          ]\n",
    "        }\n",
    "      ]\n",
    "    },\n",
    "    {\n",
    "      \"body\": \"The cat sat on the mat.\",\n",
    "      \"replies\": [\n",
    "        {\n",
    "          \"body\": \"The cat sat on the mat.\",\n",
    "          \"replies\": [\n",
    "            {\n",
    "              \"body\": \"I love this!\",\n",
    "              \"replies\": [\n",
    "                {\n",
    "                  \"body\": \"I hate this!\",\n",
    "                  \"replies\": []\n",
    "                }\n",
    "              ]\n",
    "            }\n",
    "          ]\n",
    "        }\n",
    "      ]\n",
    "    }\n",
    "  ]\n",
    "}\n",
    "\n",
    "# test 2\n",
    "# three branches:\n",
    "# 1. pos (the root), ntr, pos, neg (defection should give 0.75)\n",
    "# 2. pos (the root), pos, pos      (defection should give 1)\n",
    "# 3. pos (the root), pos, neg, neg (defection should give 0.5)\n",
    "# expected defection score: 0.75. \n",
    "\n",
    "test_json_2 = {\n",
    "    \"selftext\": \"I love this! It is amazing.\",\n",
    "    \"comments\": [\n",
    "        {\n",
    "            \"body\": \"The cat sat on the mat.\",\n",
    "            \"replies\": [\n",
    "                {\n",
    "                    \"body\": \"Absolutely wonderful!\",\n",
    "                    \"replies\": [\n",
    "                        {\n",
    "                            \"body\": \"I hate this!\",\n",
    "                            \"replies\": []\n",
    "                        }\n",
    "                    ]\n",
    "                }\n",
    "            ]\n",
    "        },\n",
    "        {\n",
    "            \"body\": \"I love this!\",\n",
    "            \"replies\": [\n",
    "                {\n",
    "                    \"body\": \"I really love it.\",\n",
    "                    \"replies\": []\n",
    "                }\n",
    "            ]\n",
    "        },\n",
    "        {\n",
    "            \"body\": \"This is great.\",\n",
    "            \"replies\": [\n",
    "                {\n",
    "                    \"body\": \"I hate this.\",\n",
    "                    \"replies\": [\n",
    "                        {\n",
    "                            \"body\": \"I hate this.\",\n",
    "                            \"replies\": []\n",
    "                        }\n",
    "                    ]\n",
    "                }\n",
    "            ]\n",
    "        }\n",
    "    ]\n",
    "}"
   ]
  },
  {
   "cell_type": "code",
   "execution_count": 9,
   "metadata": {},
   "outputs": [
    {
     "data": {
      "text/plain": [
       "2.7"
      ]
     },
     "execution_count": 9,
     "metadata": {},
     "output_type": "execute_result"
    }
   ],
   "source": [
    "defection.defection_list(test_json_2)\n",
    "defection.get_defection_score(test_json_2), defection.get_defection_score(test_json)"
   ]
  },
  {
   "cell_type": "code",
   "execution_count": null,
   "metadata": {},
   "outputs": [],
   "source": []
  }
 ],
 "metadata": {
  "kernelspec": {
   "display_name": "constructive-ranking",
   "language": "python",
   "name": "python3"
  },
  "language_info": {
   "codemirror_mode": {
    "name": "ipython",
    "version": 3
   },
   "file_extension": ".py",
   "mimetype": "text/x-python",
   "name": "python",
   "nbconvert_exporter": "python",
   "pygments_lexer": "ipython3",
   "version": "3.11.11"
  }
 },
 "nbformat": 4,
 "nbformat_minor": 2
}
