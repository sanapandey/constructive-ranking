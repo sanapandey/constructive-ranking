{
 "cells": [
  {
   "cell_type": "code",
   "execution_count": 1,
   "metadata": {},
   "outputs": [],
   "source": [
    "import defection\n",
    "import os\n",
    "import json"
   ]
  },
  {
   "cell_type": "code",
   "execution_count": 4,
   "metadata": {},
   "outputs": [],
   "source": [
    "path_file = '../scraping/selected_subreddits_500_posts_each_data/ADHD/date_03-05-2025_time_18-46/1izmb99.json'\n",
    "\n",
    "with open(path_file) as file:\n",
    "    comment_forest = json.load(file)\n",
    "\n",
    "# test_json with 2 branches Neutral Neutral Pos Neg, Pos Pos Pos Neg\n",
    "\n",
    "test_json = {\n",
    "  \"selftext\": \"I love this! It is amazing.\",\n",
    "  \"comments\": [\n",
    "    {\n",
    "      \"body\": \"The cat sat on the mat.\",\n",
    "      \"replies\": [\n",
    "        {\n",
    "          \"body\": \"I love this!\",\n",
    "          \"replies\": [\n",
    "            {\n",
    "              \"body\": \"Absolutely wonderful!\",\n",
    "              \"replies\": [\n",
    "                {\n",
    "                  \"body\": \"I hate this!\",\n",
    "                  \"replies\": []\n",
    "                }\n",
    "              ]\n",
    "            }\n",
    "          ]\n",
    "        }\n",
    "      ]\n",
    "    },\n",
    "    {\n",
    "      \"body\": \"The cat sat on the mat.\",\n",
    "      \"replies\": [\n",
    "        {\n",
    "          \"body\": \"The cat sat on the mat.\",\n",
    "          \"replies\": [\n",
    "            {\n",
    "              \"body\": \"I love this!\",\n",
    "              \"replies\": [\n",
    "                {\n",
    "                  \"body\": \"I hate this!\",\n",
    "                  \"replies\": []\n",
    "                }\n",
    "              ]\n",
    "            }\n",
    "          ]\n",
    "        }\n",
    "      ]\n",
    "    }\n",
    "  ]\n",
    "}\n"
   ]
  },
  {
   "cell_type": "code",
   "execution_count": 1,
   "metadata": {},
   "outputs": [
    {
     "ename": "NameError",
     "evalue": "name 'defection' is not defined",
     "output_type": "error",
     "traceback": [
      "\u001b[31m---------------------------------------------------------------------------\u001b[39m",
      "\u001b[31mNameError\u001b[39m                                 Traceback (most recent call last)",
      "\u001b[36mCell\u001b[39m\u001b[36m \u001b[39m\u001b[32mIn[1]\u001b[39m\u001b[32m, line 1\u001b[39m\n\u001b[32m----> \u001b[39m\u001b[32m1\u001b[39m \u001b[43mdefection\u001b[49m.defection_list(test_json)\n\u001b[32m      2\u001b[39m defection.get_defection_score(comment_forest)\n",
      "\u001b[31mNameError\u001b[39m: name 'defection' is not defined"
     ]
    }
   ],
   "source": [
    "defection.defection_list(test_json)\n",
    "defection.get_defection_score(comment_forest)"
   ]
  }
 ],
 "metadata": {
  "kernelspec": {
   "display_name": "constructive-ranking",
   "language": "python",
   "name": "python3"
  },
  "language_info": {
   "codemirror_mode": {
    "name": "ipython",
    "version": 3
   },
   "file_extension": ".py",
   "mimetype": "text/x-python",
   "name": "python",
   "nbconvert_exporter": "python",
   "pygments_lexer": "ipython3",
   "version": "3.11.11"
  }
 },
 "nbformat": 4,
 "nbformat_minor": 2
}
